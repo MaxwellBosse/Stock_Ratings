{
 "cells": [
  {
   "cell_type": "code",
   "execution_count": 29,
   "metadata": {},
   "outputs": [],
   "source": [
    "#!pip install alpha_vantage\n",
    "from alpha_vantage.timeseries import TimeSeries\n",
    "from alpha_vantage.techindicators import TechIndicators\n",
    "from alpha_vantage.fundamentaldata import FundamentalData \n",
    "ts = TimeSeries(key = 'KSTIKHKXANLCVJ2L', output_format = 'pandas', indexing_type = 'date')\n",
    "ti = TechIndicators(key = 'KSTIKHKXANLCVJ2L', output_format = 'pandas', indexing_type = 'date')\n",
    "fd = FundamentalData(key = 'KSTIKHKXANLCVJ2L', output_format = 'pandas', indexing_type = 'date')\n",
    "key = 'KSTIKHKXANLCVJ2L'\n",
    "base_url = \"https://www.alphavantage.co/query/\""
   ]
  },
  {
   "cell_type": "code",
   "execution_count": 30,
   "metadata": {},
   "outputs": [],
   "source": [
    "ticker = 'ZM'"
   ]
  },
  {
   "cell_type": "code",
   "execution_count": 31,
   "metadata": {},
   "outputs": [],
   "source": [
    "data, meta_data = ts.get_daily(symbol = ticker, outputsize = 'full')\n",
    "data"
   ]
  },
  {
   "cell_type": "code",
   "execution_count": 33,
   "metadata": {},
   "outputs": [],
   "source": [
    "data, meta_data = ti.get_macd(symbol = ticker, interval= 'daily', series_type= 'close')\n",
    "data"
   ]
  },
  {
   "cell_type": "code",
   "execution_count": 42,
   "metadata": {},
   "outputs": [
    {
     "data": {
      "text/plain": [
       "Index(['Symbol', 'AssetType', 'Name', 'Description', 'Exchange', 'Currency',\n",
       "       'Country', 'Sector', 'Industry', 'Address', 'FullTimeEmployees',\n",
       "       'FiscalYearEnd', 'LatestQuarter', 'MarketCapitalization', 'EBITDA',\n",
       "       'PERatio', 'PEGRatio', 'BookValue', 'DividendPerShare', 'DividendYield',\n",
       "       'EPS', 'RevenuePerShareTTM', 'ProfitMargin', 'OperatingMarginTTM',\n",
       "       'ReturnOnAssetsTTM', 'ReturnOnEquityTTM', 'RevenueTTM',\n",
       "       'GrossProfitTTM', 'DilutedEPSTTM', 'QuarterlyEarningsGrowthYOY',\n",
       "       'QuarterlyRevenueGrowthYOY', 'AnalystTargetPrice', 'TrailingPE',\n",
       "       'ForwardPE', 'PriceToSalesRatioTTM', 'PriceToBookRatio', 'EVToRevenue',\n",
       "       'EVToEBITDA', 'Beta', '52WeekHigh', '52WeekLow', '50DayMovingAverage',\n",
       "       '200DayMovingAverage', 'SharesOutstanding', 'SharesFloat',\n",
       "       'SharesShort', 'SharesShortPriorMonth', 'ShortRatio',\n",
       "       'ShortPercentOutstanding', 'ShortPercentFloat', 'PercentInsiders',\n",
       "       'PercentInstitutions', 'ForwardAnnualDividendRate',\n",
       "       'ForwardAnnualDividendYield', 'PayoutRatio', 'DividendDate',\n",
       "       'ExDividendDate', 'LastSplitFactor', 'LastSplitDate'],\n",
       "      dtype='object')"
      ]
     },
     "execution_count": 42,
     "metadata": {},
     "output_type": "execute_result"
    }
   ],
   "source": [
    "data, meta_data = fd.get_company_overview(symbol = ticker)\n",
    "data.columns"
   ]
  },
  {
   "cell_type": "code",
   "execution_count": 49,
   "metadata": {},
   "outputs": [
    {
     "data": {
      "text/plain": [
       "NaN    Zoom Video Communications, Inc. provides a vid...\n",
       "Name: Description, dtype: object"
      ]
     },
     "execution_count": 49,
     "metadata": {},
     "output_type": "execute_result"
    }
   ],
   "source": [
    "data['Description']"
   ]
  },
  {
   "cell_type": "code",
   "execution_count": null,
   "metadata": {},
   "outputs": [],
   "source": []
  }
 ],
 "metadata": {
  "kernelspec": {
   "display_name": "Python 3",
   "language": "python",
   "name": "python3"
  },
  "language_info": {
   "codemirror_mode": {
    "name": "ipython",
    "version": 3
   },
   "file_extension": ".py",
   "mimetype": "text/x-python",
   "name": "python",
   "nbconvert_exporter": "python",
   "pygments_lexer": "ipython3",
   "version": "3.8.3"
  }
 },
 "nbformat": 4,
 "nbformat_minor": 4
}
