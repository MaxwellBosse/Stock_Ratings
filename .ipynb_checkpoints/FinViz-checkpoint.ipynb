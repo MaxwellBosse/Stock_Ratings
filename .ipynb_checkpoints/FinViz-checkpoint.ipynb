{
 "cells": [
  {
   "cell_type": "code",
   "execution_count": 10,
   "metadata": {},
   "outputs": [],
   "source": [
    "import pandas as pd\n",
    "import numpy as np\n",
    "from bs4 import BeautifulSoup as bs\n",
    "from urllib.request import Request, urlopen"
   ]
  },
  {
   "cell_type": "code",
   "execution_count": 5,
   "metadata": {},
   "outputs": [],
   "source": [
    "ticker = 'ZM'"
   ]
  },
  {
   "cell_type": "code",
   "execution_count": 28,
   "metadata": {},
   "outputs": [],
   "source": [
    "#scapper - needs user:agent \n",
    "\n",
    "def get_institutional_ownership(ticker):\n",
    "    values = []\n",
    "    columns = ['Institutional_Ownership', 'Change_Instituional_Ownership_3months']\n",
    "    url = (\"http://finviz.com/quote.ashx?t=\" + ticker.lower())\n",
    "    req = Request(url, headers={'User-Agent': 'Mozilla/5.0'})\n",
    "    webpage = urlopen(req).read()\n",
    "    soup = bs(webpage, \"html.parser\")\n",
    "    inst_ownership = soup.find(text = 'Inst Own').find_next(class_ = 'snapshot-td2').text\n",
    "    values.append(inst_ownership)\n",
    "    change_inst_ownership_3mon = soup.find(text = 'Inst Trans').find_next(class_ = 'snapshot-td2').text\n",
    "    values.append(change_inst_ownership_3mon)\n",
    "    df = pd.DataFrame(data = values, index = columns)\n",
    "    return df"
   ]
  },
  {
   "cell_type": "code",
   "execution_count": 29,
   "metadata": {},
   "outputs": [
    {
     "data": {
      "text/html": [
       "<div>\n",
       "<style scoped>\n",
       "    .dataframe tbody tr th:only-of-type {\n",
       "        vertical-align: middle;\n",
       "    }\n",
       "\n",
       "    .dataframe tbody tr th {\n",
       "        vertical-align: top;\n",
       "    }\n",
       "\n",
       "    .dataframe thead th {\n",
       "        text-align: right;\n",
       "    }\n",
       "</style>\n",
       "<table border=\"1\" class=\"dataframe\">\n",
       "  <thead>\n",
       "    <tr style=\"text-align: right;\">\n",
       "      <th></th>\n",
       "      <th>0</th>\n",
       "    </tr>\n",
       "  </thead>\n",
       "  <tbody>\n",
       "    <tr>\n",
       "      <th>Institutional_Ownership</th>\n",
       "      <td>57.50%</td>\n",
       "    </tr>\n",
       "    <tr>\n",
       "      <th>Change_Instituional_Ownership_3months</th>\n",
       "      <td>0.65%</td>\n",
       "    </tr>\n",
       "  </tbody>\n",
       "</table>\n",
       "</div>"
      ],
      "text/plain": [
       "                                0\n",
       "Institutional_Ownership    57.50%\n",
       "Change_Instituional_Ow...   0.65%"
      ]
     },
     "execution_count": 29,
     "metadata": {},
     "output_type": "execute_result"
    }
   ],
   "source": [
    "get_institutional_ownership('ZM')"
   ]
  },
  {
   "cell_type": "code",
   "execution_count": null,
   "metadata": {},
   "outputs": [],
   "source": [
    "def fundamental_metric(soup, metric):\n",
    "    return soup.find(text = metric).find_next(class_='snapshot-td2').text"
   ]
  },
  {
   "cell_type": "code",
   "execution_count": 7,
   "metadata": {},
   "outputs": [],
   "source": [
    "def get_fundamental_data(df):\n",
    "    for symbol in df.index:\n",
    "        try:\n",
    "            url = (\"http://finviz.com/quote.ashx?t=\" + symbol.lower())\n",
    "            soup = bs(requests.get(url).content) \n",
    "            for m in df.columns:                \n",
    "                df.loc[symbol,m] = fundamental_metric(soup,m)                \n",
    "        except Exception as e:\n",
    "            print (symbol, 'not found')\n",
    "    return df"
   ]
  },
  {
   "cell_type": "code",
   "execution_count": 8,
   "metadata": {},
   "outputs": [],
   "source": [
    "stock_list = ['ZM']\n",
    "\n",
    "metric = ['Inst Own',\n",
    "'Inst Trans']"
   ]
  },
  {
   "cell_type": "code",
   "execution_count": 12,
   "metadata": {},
   "outputs": [
    {
     "name": "stdout",
     "output_type": "stream",
     "text": [
      "ZM not found\n"
     ]
    },
    {
     "ename": "NameError",
     "evalue": "name 'float64' is not defined",
     "output_type": "error",
     "traceback": [
      "\u001b[0;31m---------------------------------------------------------------------------\u001b[0m",
      "\u001b[0;31mNameError\u001b[0m                                 Traceback (most recent call last)",
      "\u001b[0;32m<ipython-input-12-b9565253b2e6>\u001b[0m in \u001b[0;36m<module>\u001b[0;34m\u001b[0m\n\u001b[1;32m      1\u001b[0m \u001b[0mdf\u001b[0m \u001b[0;34m=\u001b[0m \u001b[0mpd\u001b[0m\u001b[0;34m.\u001b[0m\u001b[0mDataFrame\u001b[0m\u001b[0;34m(\u001b[0m\u001b[0mindex\u001b[0m\u001b[0;34m=\u001b[0m\u001b[0mstock_list\u001b[0m\u001b[0;34m,\u001b[0m\u001b[0mcolumns\u001b[0m\u001b[0;34m=\u001b[0m\u001b[0mmetric\u001b[0m\u001b[0;34m)\u001b[0m\u001b[0;34m\u001b[0m\u001b[0;34m\u001b[0m\u001b[0m\n\u001b[1;32m      2\u001b[0m \u001b[0mdf\u001b[0m \u001b[0;34m=\u001b[0m \u001b[0mget_fundamental_data\u001b[0m\u001b[0;34m(\u001b[0m\u001b[0mdf\u001b[0m\u001b[0;34m)\u001b[0m\u001b[0;34m\u001b[0m\u001b[0;34m\u001b[0m\u001b[0m\n\u001b[0;32m----> 3\u001b[0;31m \u001b[0mdf\u001b[0m\u001b[0;34m.\u001b[0m\u001b[0mastype\u001b[0m\u001b[0;34m(\u001b[0m\u001b[0mfloat64\u001b[0m\u001b[0;34m)\u001b[0m\u001b[0;34m\u001b[0m\u001b[0;34m\u001b[0m\u001b[0m\n\u001b[0m",
      "\u001b[0;31mNameError\u001b[0m: name 'float64' is not defined"
     ]
    }
   ],
   "source": [
    "df = pd.DataFrame(index=stock_list,columns=metric)\n",
    "df = get_fundamental_data(df)\n",
    "df.astype(float64)"
   ]
  },
  {
   "cell_type": "code",
   "execution_count": 14,
   "metadata": {},
   "outputs": [
    {
     "name": "stdin",
     "output_type": "stream",
     "text": [
      "Enter a ticker:  ZM\n"
     ]
    },
    {
     "name": "stdout",
     "output_type": "stream",
     "text": [
      "Getting data for ZM...\n",
      "\n",
      "Fundamental Ratios: \n",
      "                 Values\n",
      "Attributes             \n",
      "Index                 -\n",
      "Market Cap      107.74B\n",
      "Income          425.50M\n",
      "Sales             1.96B\n",
      "Book/sh            5.27\n",
      "...                 ...\n",
      "ATR               18.83\n",
      "Volatility  6.45% 4.72%\n",
      "Prev Close       383.24\n",
      "Price            384.53\n",
      "Change            0.34%\n",
      "\n",
      "[72 rows x 1 columns]\n"
     ]
    }
   ],
   "source": [
    "import pandas as pd\n",
    "import numpy as np\n",
    "from bs4 import BeautifulSoup as soup\n",
    "from urllib.request import Request, urlopen\n",
    "\n",
    "pd.set_option('display.max_colwidth', 25)\n",
    "\n",
    "# Input\n",
    "symbol = input('Enter a ticker: ')\n",
    "print ('Getting data for ' + symbol + '...\\n')\n",
    "\n",
    "# Set up scraper\n",
    "url = (\"http://finviz.com/quote.ashx?t=\" + symbol.lower())\n",
    "req = Request(url, headers={'User-Agent': 'Mozilla/5.0'})\n",
    "webpage = urlopen(req).read()\n",
    "html = soup(webpage, \"html.parser\")\n",
    "\n",
    "def get_fundamentals():\n",
    "    try:\n",
    "        # Find fundamentals table\n",
    "        fundamentals = pd.read_html(str(html), attrs = {'class': 'snapshot-table2'})[0]\n",
    "        \n",
    "        # Clean up fundamentals dataframe\n",
    "        fundamentals.columns = ['0', '1', '2', '3', '4', '5', '6', '7', '8', '9', '10', '11']\n",
    "        colOne = []\n",
    "        colLength = len(fundamentals)\n",
    "        for k in np.arange(0, colLength, 2):\n",
    "            colOne.append(fundamentals[f'{k}'])\n",
    "        attrs = pd.concat(colOne, ignore_index=True)\n",
    "    \n",
    "        colTwo = []\n",
    "        colLength = len(fundamentals)\n",
    "        for k in np.arange(1, colLength, 2):\n",
    "            colTwo.append(fundamentals[f'{k}'])\n",
    "        vals = pd.concat(colTwo, ignore_index=True)\n",
    "        \n",
    "        fundamentals = pd.DataFrame()\n",
    "        fundamentals['Attributes'] = attrs\n",
    "        fundamentals['Values'] = vals\n",
    "        fundamentals = fundamentals.set_index('Attributes')\n",
    "        return fundamentals\n",
    "\n",
    "    except Exception as e:\n",
    "        return e\n",
    "\n",
    "print ('Fundamental Ratios: ')\n",
    "print(get_fundamentals())\n"
   ]
  }
 ],
 "metadata": {
  "kernelspec": {
   "display_name": "Python 3",
   "language": "python",
   "name": "python3"
  },
  "language_info": {
   "codemirror_mode": {
    "name": "ipython",
    "version": 3
   },
   "file_extension": ".py",
   "mimetype": "text/x-python",
   "name": "python",
   "nbconvert_exporter": "python",
   "pygments_lexer": "ipython3",
   "version": "3.8.3"
  }
 },
 "nbformat": 4,
 "nbformat_minor": 4
}
