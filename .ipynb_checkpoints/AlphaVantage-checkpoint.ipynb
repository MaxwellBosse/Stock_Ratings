{
 "cells": [
  {
   "cell_type": "code",
   "execution_count": 1,
   "metadata": {},
   "outputs": [],
   "source": [
    "import requests\n",
    "import pandas as pd\n",
    "import matplotlib.pyplot as plt\n"
   ]
  },
  {
   "cell_type": "code",
   "execution_count": 2,
   "metadata": {},
   "outputs": [],
   "source": [
    "key = 'KSTIKHKXANLCVJ2L'\n",
    "base_url = \"https://www.alphavantage.co/query/\""
   ]
  },
  {
   "cell_type": "markdown",
   "metadata": {},
   "source": [
    "Process to make a dataframe for a ticker"
   ]
  },
  {
   "cell_type": "code",
   "execution_count": 9,
   "metadata": {},
   "outputs": [],
   "source": [
    "# Create list of parameter dictionaries\n",
    "def build_params(ticker):\n",
    "    param_list = [{'EMA_8' : {\n",
    "    \"function\":\"EMA\",\n",
    "    \"interval\":\"daily\",\n",
    "    \"symbol\":f'{ticker}',\n",
    "    \"time_period\": \"8\",\n",
    "    \"series_type\": \"high\",\n",
    "    'apikey':key}}, \n",
    " \n",
    "    {'EMA_21':{\n",
    "    \"function\":\"EMA\",\n",
    "    \"interval\":\"daily\",\n",
    "    \"symbol\":f'{ticker}',\n",
    "    \"time_period\": \"21\",\n",
    "    \"series_type\": \"high\",\n",
    "    'apikey':key}}, \n",
    "                        \n",
    "    {'SMA_50':{\n",
    "    \"function\":\"SMA\",\n",
    "    \"interval\":\"daily\",\n",
    "    \"symbol\":f'{ticker}',\n",
    "    \"time_period\": \"50\",\n",
    "    \"series_type\": \"high\",\n",
    "    'apikey':key}},\n",
    "              \n",
    "    {'SMA_200':{\n",
    "    \"function\":\"SMA\",\n",
    "    \"interval\":\"daily\",\n",
    "    \"symbol\":f'{ticker}',\n",
    "    \"time_period\": \"200\",\n",
    "    \"series_type\": \"high\",\n",
    "    'apikey':key}}\n",
    "             \n",
    "    ]\n",
    "    return param_list"
   ]
  },
  {
   "cell_type": "code",
   "execution_count": 13,
   "metadata": {},
   "outputs": [],
   "source": [
    "def get_technicals(stock):\n",
    "    key = 'KSTIKHKXANLCVJ2L'\n",
    "    base_url = \"https://www.alphavantage.co/query/\"\n",
    "    ticker = stock\n",
    "    dfs = []\n",
    "    cols = []\n",
    "    param_list = build_params(ticker)\n",
    "    for i in param_list:    \n",
    "        for k, v in i.items():\n",
    "            res = requests.get(url=base_url, params = v)\n",
    "            res_dict = res.json()\n",
    "            _, header = res.json()\n",
    "            df = pd.DataFrame.from_dict(res_dict[header], orient= 'index')\n",
    "            dfs.append(df)\n",
    "            cols.append(k)\n",
    "    df = pd.concat(dfs, axis = 1)\n",
    "    df.columns = cols\n",
    "    return df\n",
    "            "
   ]
  },
  {
   "cell_type": "code",
   "execution_count": 17,
   "metadata": {},
   "outputs": [
    {
     "data": {
      "text/html": [
       "<div>\n",
       "<style scoped>\n",
       "    .dataframe tbody tr th:only-of-type {\n",
       "        vertical-align: middle;\n",
       "    }\n",
       "\n",
       "    .dataframe tbody tr th {\n",
       "        vertical-align: top;\n",
       "    }\n",
       "\n",
       "    .dataframe thead th {\n",
       "        text-align: right;\n",
       "    }\n",
       "</style>\n",
       "<table border=\"1\" class=\"dataframe\">\n",
       "  <thead>\n",
       "    <tr style=\"text-align: right;\">\n",
       "      <th></th>\n",
       "      <th>EMA_8</th>\n",
       "      <th>EMA_21</th>\n",
       "      <th>SMA_50</th>\n",
       "      <th>SMA_200</th>\n",
       "    </tr>\n",
       "  </thead>\n",
       "  <tbody>\n",
       "    <tr>\n",
       "      <th>2017-05-09</th>\n",
       "      <td>11.2650</td>\n",
       "      <td>NaN</td>\n",
       "      <td>NaN</td>\n",
       "      <td>NaN</td>\n",
       "    </tr>\n",
       "    <tr>\n",
       "      <th>2017-05-10</th>\n",
       "      <td>11.1483</td>\n",
       "      <td>NaN</td>\n",
       "      <td>NaN</td>\n",
       "      <td>NaN</td>\n",
       "    </tr>\n",
       "    <tr>\n",
       "      <th>2017-05-11</th>\n",
       "      <td>11.1931</td>\n",
       "      <td>NaN</td>\n",
       "      <td>NaN</td>\n",
       "      <td>NaN</td>\n",
       "    </tr>\n",
       "    <tr>\n",
       "      <th>2017-05-12</th>\n",
       "      <td>11.2547</td>\n",
       "      <td>NaN</td>\n",
       "      <td>NaN</td>\n",
       "      <td>NaN</td>\n",
       "    </tr>\n",
       "    <tr>\n",
       "      <th>2017-05-15</th>\n",
       "      <td>11.3536</td>\n",
       "      <td>NaN</td>\n",
       "      <td>NaN</td>\n",
       "      <td>NaN</td>\n",
       "    </tr>\n",
       "    <tr>\n",
       "      <th>...</th>\n",
       "      <td>...</td>\n",
       "      <td>...</td>\n",
       "      <td>...</td>\n",
       "      <td>...</td>\n",
       "    </tr>\n",
       "    <tr>\n",
       "      <th>2021-01-08</th>\n",
       "      <td>266.3698</td>\n",
       "      <td>262.8285</td>\n",
       "      <td>243.4096</td>\n",
       "      <td>171.9194</td>\n",
       "    </tr>\n",
       "    <tr>\n",
       "      <th>2021-01-11</th>\n",
       "      <td>269.2877</td>\n",
       "      <td>264.3441</td>\n",
       "      <td>244.8896</td>\n",
       "      <td>172.9969</td>\n",
       "    </tr>\n",
       "    <tr>\n",
       "      <th>2021-01-12</th>\n",
       "      <td>274.4326</td>\n",
       "      <td>266.8983</td>\n",
       "      <td>246.6244</td>\n",
       "      <td>174.1945</td>\n",
       "    </tr>\n",
       "    <tr>\n",
       "      <th>2021-01-13</th>\n",
       "      <td>279.0309</td>\n",
       "      <td>269.4644</td>\n",
       "      <td>248.2471</td>\n",
       "      <td>175.3702</td>\n",
       "    </tr>\n",
       "    <tr>\n",
       "      <th>2021-01-14</th>\n",
       "      <td>284.2374</td>\n",
       "      <td>272.4640</td>\n",
       "      <td>250.4983</td>\n",
       "      <td>176.5950</td>\n",
       "    </tr>\n",
       "  </tbody>\n",
       "</table>\n",
       "<p>929 rows × 4 columns</p>\n",
       "</div>"
      ],
      "text/plain": [
       "               EMA_8    EMA_21    SMA_50   SMA_200\n",
       "2017-05-09   11.2650       NaN       NaN       NaN\n",
       "2017-05-10   11.1483       NaN       NaN       NaN\n",
       "2017-05-11   11.1931       NaN       NaN       NaN\n",
       "2017-05-12   11.2547       NaN       NaN       NaN\n",
       "2017-05-15   11.3536       NaN       NaN       NaN\n",
       "...              ...       ...       ...       ...\n",
       "2021-01-08  266.3698  262.8285  243.4096  171.9194\n",
       "2021-01-11  269.2877  264.3441  244.8896  172.9969\n",
       "2021-01-12  274.4326  266.8983  246.6244  174.1945\n",
       "2021-01-13  279.0309  269.4644  248.2471  175.3702\n",
       "2021-01-14  284.2374  272.4640  250.4983  176.5950\n",
       "\n",
       "[929 rows x 4 columns]"
      ]
     },
     "execution_count": 17,
     "metadata": {},
     "output_type": "execute_result"
    }
   ],
   "source": [
    "get_technicals('cvna')"
   ]
  },
  {
   "cell_type": "code",
   "execution_count": 1,
   "metadata": {},
   "outputs": [
    {
     "ename": "NameError",
     "evalue": "name 'ts' is not defined",
     "output_type": "error",
     "traceback": [
      "\u001b[0;31m---------------------------------------------------------------------------\u001b[0m",
      "\u001b[0;31mNameError\u001b[0m                                 Traceback (most recent call last)",
      "\u001b[0;32m<ipython-input-1-4f063c1b3c0a>\u001b[0m in \u001b[0;36m<module>\u001b[0;34m\u001b[0m\n\u001b[1;32m      1\u001b[0m \u001b[0;31m# Get daily stock data\u001b[0m\u001b[0;34m\u001b[0m\u001b[0;34m\u001b[0m\u001b[0;34m\u001b[0m\u001b[0m\n\u001b[0;32m----> 2\u001b[0;31m \u001b[0mdata\u001b[0m\u001b[0;34m,\u001b[0m \u001b[0mmeta_data\u001b[0m \u001b[0;34m=\u001b[0m \u001b[0mts\u001b[0m\u001b[0;34m.\u001b[0m\u001b[0mget_daily\u001b[0m\u001b[0;34m(\u001b[0m\u001b[0msymbol\u001b[0m \u001b[0;34m=\u001b[0m \u001b[0mticker\u001b[0m\u001b[0;34m,\u001b[0m \u001b[0moutputsize\u001b[0m \u001b[0;34m=\u001b[0m \u001b[0;34m'full'\u001b[0m\u001b[0;34m)\u001b[0m\u001b[0;34m\u001b[0m\u001b[0;34m\u001b[0m\u001b[0m\n\u001b[0m\u001b[1;32m      3\u001b[0m \u001b[0mdata\u001b[0m\u001b[0;34m\u001b[0m\u001b[0;34m\u001b[0m\u001b[0m\n",
      "\u001b[0;31mNameError\u001b[0m: name 'ts' is not defined"
     ]
    }
   ],
   "source": [
    "# Get daily stock data\n",
    "data, meta_data = ts.get_daily(symbol = ticker, outputsize = 'full')\n",
    "data"
   ]
  },
  {
   "cell_type": "code",
   "execution_count": null,
   "metadata": {},
   "outputs": [],
   "source": []
  }
 ],
 "metadata": {
  "kernelspec": {
   "display_name": "Python 3",
   "language": "python",
   "name": "python3"
  },
  "language_info": {
   "codemirror_mode": {
    "name": "ipython",
    "version": 3
   },
   "file_extension": ".py",
   "mimetype": "text/x-python",
   "name": "python",
   "nbconvert_exporter": "python",
   "pygments_lexer": "ipython3",
   "version": "3.8.3"
  }
 },
 "nbformat": 4,
 "nbformat_minor": 4
}
