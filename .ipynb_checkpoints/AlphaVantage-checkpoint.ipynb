{
 "cells": [
  {
   "cell_type": "code",
   "execution_count": 1,
   "metadata": {},
   "outputs": [],
   "source": [
    "import requests\n",
    "import pandas as pd\n",
    "import matplotlib.pyplot as plt\n"
   ]
  },
  {
   "cell_type": "code",
   "execution_count": 2,
   "metadata": {},
   "outputs": [],
   "source": [
    "key = 'KSTIKHKXANLCVJ2L'\n",
    "base_url = \"https://www.alphavantage.co/query/\""
   ]
  },
  {
   "cell_type": "code",
   "execution_count": 3,
   "metadata": {},
   "outputs": [],
   "source": [
    "#build out a request\n",
    "res = requests.get(url=base_url, params={\n",
    "    \"function\":\"TIME_SERIES_INTRADAY\",\n",
    "    \"interval\":\"5min\",\n",
    "    \"symbol\":\"ZM\",\n",
    "    'apikey':key})"
   ]
  },
  {
   "cell_type": "code",
   "execution_count": 4,
   "metadata": {},
   "outputs": [
    {
     "data": {
      "text/plain": [
       "200"
      ]
     },
     "execution_count": 4,
     "metadata": {},
     "output_type": "execute_result"
    }
   ],
   "source": [
    "res.status_code"
   ]
  },
  {
   "cell_type": "code",
   "execution_count": 5,
   "metadata": {},
   "outputs": [],
   "source": [
    "intraday = res.json()"
   ]
  },
  {
   "cell_type": "code",
   "execution_count": 6,
   "metadata": {},
   "outputs": [],
   "source": [
    "res1= requests.get(url=base_url, params={\n",
    "    \"function\":\"EMA\",\n",
    "    \"interval\":\"daily\",\n",
    "    \"symbol\":\"ZM\",\n",
    "    \"time_period\": \"8\",\n",
    "    \"series_type\": \"high\",\n",
    "    'apikey':key})"
   ]
  },
  {
   "cell_type": "code",
   "execution_count": 7,
   "metadata": {},
   "outputs": [
    {
     "data": {
      "text/plain": [
       "200"
      ]
     },
     "execution_count": 7,
     "metadata": {},
     "output_type": "execute_result"
    }
   ],
   "source": [
    "res1.status_code"
   ]
  },
  {
   "cell_type": "code",
   "execution_count": 8,
   "metadata": {},
   "outputs": [],
   "source": [
    "ema_dict = res1.json()\n",
    "#sperate jsono response (stock price data) from the information related to the query\n",
    "_, header = res1.json()\n",
    "#create dataframe with timestamp as index \n",
    "df = pd.DataFrame.from_dict(ema_dict[header], orient= 'index')"
   ]
  },
  {
   "cell_type": "code",
   "execution_count": 9,
   "metadata": {},
   "outputs": [],
   "source": []
  },
  {
   "cell_type": "code",
   "execution_count": 10,
   "metadata": {},
   "outputs": [],
   "source": []
  },
  {
   "cell_type": "code",
   "execution_count": 14,
   "metadata": {},
   "outputs": [
    {
     "data": {
      "text/plain": [
       "Index(['2019-04-30', '2019-05-01', '2019-05-02', '2019-05-03', '2019-05-06',\n",
       "       '2019-05-07', '2019-05-08', '2019-05-09', '2019-05-10', '2019-05-13',\n",
       "       ...\n",
       "       '2020-12-28', '2020-12-29', '2020-12-30', '2020-12-31', '2021-01-04',\n",
       "       '2021-01-05', '2021-01-06', '2021-01-07', '2021-01-08', '2021-01-11'],\n",
       "      dtype='object', length=430)"
      ]
     },
     "execution_count": 14,
     "metadata": {},
     "output_type": "execute_result"
    }
   ],
   "source": []
  },
  {
   "cell_type": "code",
   "execution_count": 11,
   "metadata": {},
   "outputs": [
    {
     "ename": "IndexError",
     "evalue": "list index out of range",
     "output_type": "error",
     "traceback": [
      "\u001b[0;31m---------------------------------------------------------------------------\u001b[0m",
      "\u001b[0;31mIndexError\u001b[0m                                Traceback (most recent call last)",
      "\u001b[0;32m<ipython-input-11-8754f749c65a>\u001b[0m in \u001b[0;36m<module>\u001b[0;34m\u001b[0m\n\u001b[0;32m----> 1\u001b[0;31m \u001b[0mdf_cols\u001b[0m \u001b[0;34m=\u001b[0m \u001b[0;34m[\u001b[0m\u001b[0mi\u001b[0m\u001b[0;34m.\u001b[0m\u001b[0msplit\u001b[0m\u001b[0;34m(\u001b[0m\u001b[0;34m' '\u001b[0m\u001b[0;34m)\u001b[0m\u001b[0;34m[\u001b[0m\u001b[0;36m1\u001b[0m\u001b[0;34m]\u001b[0m \u001b[0;32mfor\u001b[0m \u001b[0mi\u001b[0m \u001b[0;32min\u001b[0m \u001b[0mdf\u001b[0m\u001b[0;34m.\u001b[0m\u001b[0mcolumns\u001b[0m\u001b[0;34m]\u001b[0m\u001b[0;34m\u001b[0m\u001b[0;34m\u001b[0m\u001b[0m\n\u001b[0m\u001b[1;32m      2\u001b[0m \u001b[0mdf\u001b[0m\u001b[0;34m.\u001b[0m\u001b[0mcolumns\u001b[0m \u001b[0;34m=\u001b[0m \u001b[0mdf_cols\u001b[0m\u001b[0;34m\u001b[0m\u001b[0;34m\u001b[0m\u001b[0m\n\u001b[1;32m      3\u001b[0m \u001b[0mdf\u001b[0m\u001b[0;34m.\u001b[0m\u001b[0mset_index\u001b[0m\u001b[0;34m(\u001b[0m\u001b[0;34m'timestamp'\u001b[0m\u001b[0;34m,\u001b[0m \u001b[0minplace\u001b[0m \u001b[0;34m=\u001b[0m \u001b[0;32mTrue\u001b[0m\u001b[0;34m)\u001b[0m\u001b[0;34m\u001b[0m\u001b[0;34m\u001b[0m\u001b[0m\n\u001b[1;32m      4\u001b[0m \u001b[0mprint\u001b[0m\u001b[0;34m(\u001b[0m\u001b[0mdf\u001b[0m\u001b[0;34m)\u001b[0m\u001b[0;34m\u001b[0m\u001b[0;34m\u001b[0m\u001b[0m\n",
      "\u001b[0;32m<ipython-input-11-8754f749c65a>\u001b[0m in \u001b[0;36m<listcomp>\u001b[0;34m(.0)\u001b[0m\n\u001b[0;32m----> 1\u001b[0;31m \u001b[0mdf_cols\u001b[0m \u001b[0;34m=\u001b[0m \u001b[0;34m[\u001b[0m\u001b[0mi\u001b[0m\u001b[0;34m.\u001b[0m\u001b[0msplit\u001b[0m\u001b[0;34m(\u001b[0m\u001b[0;34m' '\u001b[0m\u001b[0;34m)\u001b[0m\u001b[0;34m[\u001b[0m\u001b[0;36m1\u001b[0m\u001b[0;34m]\u001b[0m \u001b[0;32mfor\u001b[0m \u001b[0mi\u001b[0m \u001b[0;32min\u001b[0m \u001b[0mdf\u001b[0m\u001b[0;34m.\u001b[0m\u001b[0mcolumns\u001b[0m\u001b[0;34m]\u001b[0m\u001b[0;34m\u001b[0m\u001b[0;34m\u001b[0m\u001b[0m\n\u001b[0m\u001b[1;32m      2\u001b[0m \u001b[0mdf\u001b[0m\u001b[0;34m.\u001b[0m\u001b[0mcolumns\u001b[0m \u001b[0;34m=\u001b[0m \u001b[0mdf_cols\u001b[0m\u001b[0;34m\u001b[0m\u001b[0;34m\u001b[0m\u001b[0m\n\u001b[1;32m      3\u001b[0m \u001b[0mdf\u001b[0m\u001b[0;34m.\u001b[0m\u001b[0mset_index\u001b[0m\u001b[0;34m(\u001b[0m\u001b[0;34m'timestamp'\u001b[0m\u001b[0;34m,\u001b[0m \u001b[0minplace\u001b[0m \u001b[0;34m=\u001b[0m \u001b[0;32mTrue\u001b[0m\u001b[0;34m)\u001b[0m\u001b[0;34m\u001b[0m\u001b[0;34m\u001b[0m\u001b[0m\n\u001b[1;32m      4\u001b[0m \u001b[0mprint\u001b[0m\u001b[0;34m(\u001b[0m\u001b[0mdf\u001b[0m\u001b[0;34m)\u001b[0m\u001b[0;34m\u001b[0m\u001b[0;34m\u001b[0m\u001b[0m\n",
      "\u001b[0;31mIndexError\u001b[0m: list index out of range"
     ]
    }
   ],
   "source": [
    "df_cols = [i.split(' ')[1] for i in df.columns]\n",
    "df.columns = df_cols\n",
    "df.set_index('timestamp', inplace = True)\n",
    "print(df)"
   ]
  },
  {
   "cell_type": "code",
   "execution_count": 84,
   "metadata": {},
   "outputs": [],
   "source": [
    "# Create list of parameter dictionaries\n",
    "ticker = 'ZM'\n",
    "param_list = [{'EMA_8' : {\n",
    "    \"function\":\"EMA\",\n",
    "    \"interval\":\"daily\",\n",
    "    \"symbol\":f'{ticker}',\n",
    "    \"time_period\": \"8\",\n",
    "    \"series_type\": \"high\",\n",
    "    'apikey':key}}, \n",
    " \n",
    "{'EMA_21':{\n",
    "    \"function\":\"EMA\",\n",
    "    \"interval\":\"daily\",\n",
    "    \"symbol\":f'{ticker}',\n",
    "    \"time_period\": \"21\",\n",
    "    \"series_type\": \"high\",\n",
    "    'apikey':key}}, \n",
    "                        \n",
    "{'SMA_50':{\n",
    "    \"function\":\"SMA\",\n",
    "    \"interval\":\"daily\",\n",
    "    \"symbol\":f'{ticker}',\n",
    "    \"time_period\": \"50\",\n",
    "    \"series_type\": \"high\",\n",
    "    'apikey':key}},\n",
    "              \n",
    "{'SMA_200':{\n",
    "    \"function\":\"SMA\",\n",
    "    \"interval\":\"daily\",\n",
    "    \"symbol\":f'{ticker}',\n",
    "    \"time_period\": \"200\",\n",
    "    \"series_type\": \"high\",\n",
    "    'apikey':key}}\n",
    "             \n",
    "             \n",
    "             \n",
    "             \n",
    "             \n",
    "             \n",
    "             \n",
    "             \n",
    "             \n",
    "             ]"
   ]
  },
  {
   "cell_type": "code",
   "execution_count": 85,
   "metadata": {},
   "outputs": [
    {
     "name": "stdout",
     "output_type": "stream",
     "text": [
      "EMA_8\n",
      "EMA_21\n",
      "SMA_50\n",
      "SMA_200\n"
     ]
    }
   ],
   "source": [
    "for i in param_list:    \n",
    "    for k, v in i.items():\n",
    "        print(k)\n",
    "        "
   ]
  },
  {
   "cell_type": "code",
   "execution_count": 86,
   "metadata": {},
   "outputs": [],
   "source": [
    "def get_technicals(ticker):\n",
    "    key = 'KSTIKHKXANLCVJ2L'\n",
    "    base_url = \"https://www.alphavantage.co/query/\"\n",
    "    dfs = []\n",
    "    cols = []\n",
    "    for i in param_list:    \n",
    "        for k, v in i.items():\n",
    "            res = requests.get(url=base_url, params = v)\n",
    "            res_dict = res.json()\n",
    "            _, header = res.json()\n",
    "            df = pd.DataFrame.from_dict(res_dict[header], orient= 'index')\n",
    "            dfs.append(df)\n",
    "            cols.append(k)\n",
    "    df = pd.concat(dfs, axis = 1)\n",
    "    df.columns = cols\n",
    "    return df\n",
    "            "
   ]
  },
  {
   "cell_type": "code",
   "execution_count": 87,
   "metadata": {},
   "outputs": [
    {
     "data": {
      "text/html": [
       "<div>\n",
       "<style scoped>\n",
       "    .dataframe tbody tr th:only-of-type {\n",
       "        vertical-align: middle;\n",
       "    }\n",
       "\n",
       "    .dataframe tbody tr th {\n",
       "        vertical-align: top;\n",
       "    }\n",
       "\n",
       "    .dataframe thead th {\n",
       "        text-align: right;\n",
       "    }\n",
       "</style>\n",
       "<table border=\"1\" class=\"dataframe\">\n",
       "  <thead>\n",
       "    <tr style=\"text-align: right;\">\n",
       "      <th></th>\n",
       "      <th>EMA_8</th>\n",
       "      <th>EMA_21</th>\n",
       "      <th>SMA_50</th>\n",
       "      <th>SMA_200</th>\n",
       "    </tr>\n",
       "  </thead>\n",
       "  <tbody>\n",
       "    <tr>\n",
       "      <th>2019-04-30</th>\n",
       "      <td>69.4286</td>\n",
       "      <td>NaN</td>\n",
       "      <td>NaN</td>\n",
       "      <td>NaN</td>\n",
       "    </tr>\n",
       "    <tr>\n",
       "      <th>2019-05-01</th>\n",
       "      <td>71.1000</td>\n",
       "      <td>NaN</td>\n",
       "      <td>NaN</td>\n",
       "      <td>NaN</td>\n",
       "    </tr>\n",
       "    <tr>\n",
       "      <th>2019-05-02</th>\n",
       "      <td>72.1645</td>\n",
       "      <td>NaN</td>\n",
       "      <td>NaN</td>\n",
       "      <td>NaN</td>\n",
       "    </tr>\n",
       "    <tr>\n",
       "      <th>2019-05-03</th>\n",
       "      <td>73.9613</td>\n",
       "      <td>NaN</td>\n",
       "      <td>NaN</td>\n",
       "      <td>NaN</td>\n",
       "    </tr>\n",
       "    <tr>\n",
       "      <th>2019-05-06</th>\n",
       "      <td>75.4788</td>\n",
       "      <td>NaN</td>\n",
       "      <td>NaN</td>\n",
       "      <td>NaN</td>\n",
       "    </tr>\n",
       "    <tr>\n",
       "      <th>...</th>\n",
       "      <td>...</td>\n",
       "      <td>...</td>\n",
       "      <td>...</td>\n",
       "      <td>...</td>\n",
       "    </tr>\n",
       "    <tr>\n",
       "      <th>2021-01-06</th>\n",
       "      <td>367.1647</td>\n",
       "      <td>389.3176</td>\n",
       "      <td>430.9305</td>\n",
       "      <td>319.7861</td>\n",
       "    </tr>\n",
       "    <tr>\n",
       "      <th>2021-01-07</th>\n",
       "      <td>364.3459</td>\n",
       "      <td>386.1505</td>\n",
       "      <td>427.1980</td>\n",
       "      <td>320.7835</td>\n",
       "    </tr>\n",
       "    <tr>\n",
       "      <th>2021-01-08</th>\n",
       "      <td>361.1579</td>\n",
       "      <td>382.8641</td>\n",
       "      <td>423.3980</td>\n",
       "      <td>321.7885</td>\n",
       "    </tr>\n",
       "    <tr>\n",
       "      <th>2021-01-11</th>\n",
       "      <td>358.6695</td>\n",
       "      <td>379.8729</td>\n",
       "      <td>419.3201</td>\n",
       "      <td>322.8051</td>\n",
       "    </tr>\n",
       "    <tr>\n",
       "      <th>2021-01-12</th>\n",
       "      <td>358.7207</td>\n",
       "      <td>377.9662</td>\n",
       "      <td>415.9890</td>\n",
       "      <td>323.8247</td>\n",
       "    </tr>\n",
       "  </tbody>\n",
       "</table>\n",
       "<p>431 rows × 4 columns</p>\n",
       "</div>"
      ],
      "text/plain": [
       "               EMA_8    EMA_21    SMA_50   SMA_200\n",
       "2019-04-30   69.4286       NaN       NaN       NaN\n",
       "2019-05-01   71.1000       NaN       NaN       NaN\n",
       "2019-05-02   72.1645       NaN       NaN       NaN\n",
       "2019-05-03   73.9613       NaN       NaN       NaN\n",
       "2019-05-06   75.4788       NaN       NaN       NaN\n",
       "...              ...       ...       ...       ...\n",
       "2021-01-06  367.1647  389.3176  430.9305  319.7861\n",
       "2021-01-07  364.3459  386.1505  427.1980  320.7835\n",
       "2021-01-08  361.1579  382.8641  423.3980  321.7885\n",
       "2021-01-11  358.6695  379.8729  419.3201  322.8051\n",
       "2021-01-12  358.7207  377.9662  415.9890  323.8247\n",
       "\n",
       "[431 rows x 4 columns]"
      ]
     },
     "execution_count": 87,
     "metadata": {},
     "output_type": "execute_result"
    }
   ],
   "source": [
    "get_technicals('ZM')"
   ]
  },
  {
   "cell_type": "code",
   "execution_count": 35,
   "metadata": {},
   "outputs": [],
   "source": [
    "def get_technicals(ticker):\n",
    "    key = 'KSTIKHKXANLCVJ2L'\n",
    "    base_url = \"https://www.alphavantage.co/query/\"\n",
    "    dfs = []\n",
    "    #EMA_8\n",
    "    ema_8 = requests.get(url=base_url, params={\n",
    "    \"function\":\"EMA\",\n",
    "    \"interval\":\"daily\",\n",
    "    \"symbol\":f'{ticker}',\n",
    "    \"time_period\": \"8\",\n",
    "    \"series_type\": \"high\",\n",
    "    'apikey':key})\n",
    "    ema_dict = ema_8.json()\n",
    "    _, header = ema_8.json()\n",
    "    df_1 = pd.DataFrame.from_dict(ema_dict[header], orient= 'index')\n",
    "    dfs.append(df_1)\n",
    "    \n",
    "    #EMA_21\n",
    "    ema_21 = requests.get(url=base_url, params={\n",
    "    \"function\":\"EMA\",\n",
    "    \"interval\":\"daily\",\n",
    "    \"symbol\":f'{ticker}',\n",
    "    \"time_period\": \"21\",\n",
    "    \"series_type\": \"high\",\n",
    "    'apikey':key})\n",
    "    ema_21_dict = ema_21.json()\n",
    "    _, header = ema_21.json()\n",
    "    df_2 = pd.DataFrame.from_dict(ema_21_dict[header], orient= 'index')\n",
    "    dfs.append(df_2)\n",
    "    #merge dfs\n",
    "    df = pd.concat(dfs, axis=1)\n",
    "    \n",
    "    #SMA_50\n",
    "    \n",
    "    \n",
    "    \n",
    "    #SMA_200\n",
    "    \n",
    "    \n",
    "    \n",
    "    \n",
    "    \n",
    "    return df\n"
   ]
  },
  {
   "cell_type": "code",
   "execution_count": 36,
   "metadata": {},
   "outputs": [
    {
     "data": {
      "text/html": [
       "<div>\n",
       "<style scoped>\n",
       "    .dataframe tbody tr th:only-of-type {\n",
       "        vertical-align: middle;\n",
       "    }\n",
       "\n",
       "    .dataframe tbody tr th {\n",
       "        vertical-align: top;\n",
       "    }\n",
       "\n",
       "    .dataframe thead th {\n",
       "        text-align: right;\n",
       "    }\n",
       "</style>\n",
       "<table border=\"1\" class=\"dataframe\">\n",
       "  <thead>\n",
       "    <tr style=\"text-align: right;\">\n",
       "      <th></th>\n",
       "      <th>EMA</th>\n",
       "      <th>EMA</th>\n",
       "    </tr>\n",
       "  </thead>\n",
       "  <tbody>\n",
       "    <tr>\n",
       "      <th>2019-04-30</th>\n",
       "      <td>69.4286</td>\n",
       "      <td>NaN</td>\n",
       "    </tr>\n",
       "    <tr>\n",
       "      <th>2019-05-01</th>\n",
       "      <td>71.1000</td>\n",
       "      <td>NaN</td>\n",
       "    </tr>\n",
       "    <tr>\n",
       "      <th>2019-05-02</th>\n",
       "      <td>72.1645</td>\n",
       "      <td>NaN</td>\n",
       "    </tr>\n",
       "    <tr>\n",
       "      <th>2019-05-03</th>\n",
       "      <td>73.9613</td>\n",
       "      <td>NaN</td>\n",
       "    </tr>\n",
       "    <tr>\n",
       "      <th>2019-05-06</th>\n",
       "      <td>75.4788</td>\n",
       "      <td>NaN</td>\n",
       "    </tr>\n",
       "    <tr>\n",
       "      <th>...</th>\n",
       "      <td>...</td>\n",
       "      <td>...</td>\n",
       "    </tr>\n",
       "    <tr>\n",
       "      <th>2021-01-06</th>\n",
       "      <td>367.1647</td>\n",
       "      <td>389.3176</td>\n",
       "    </tr>\n",
       "    <tr>\n",
       "      <th>2021-01-07</th>\n",
       "      <td>364.3459</td>\n",
       "      <td>386.1505</td>\n",
       "    </tr>\n",
       "    <tr>\n",
       "      <th>2021-01-08</th>\n",
       "      <td>361.1579</td>\n",
       "      <td>382.8641</td>\n",
       "    </tr>\n",
       "    <tr>\n",
       "      <th>2021-01-11</th>\n",
       "      <td>358.6695</td>\n",
       "      <td>379.8729</td>\n",
       "    </tr>\n",
       "    <tr>\n",
       "      <th>2021-01-12</th>\n",
       "      <td>358.7207</td>\n",
       "      <td>377.9662</td>\n",
       "    </tr>\n",
       "  </tbody>\n",
       "</table>\n",
       "<p>431 rows × 2 columns</p>\n",
       "</div>"
      ],
      "text/plain": [
       "                 EMA       EMA\n",
       "2019-04-30   69.4286       NaN\n",
       "2019-05-01   71.1000       NaN\n",
       "2019-05-02   72.1645       NaN\n",
       "2019-05-03   73.9613       NaN\n",
       "2019-05-06   75.4788       NaN\n",
       "...              ...       ...\n",
       "2021-01-06  367.1647  389.3176\n",
       "2021-01-07  364.3459  386.1505\n",
       "2021-01-08  361.1579  382.8641\n",
       "2021-01-11  358.6695  379.8729\n",
       "2021-01-12  358.7207  377.9662\n",
       "\n",
       "[431 rows x 2 columns]"
      ]
     },
     "execution_count": 36,
     "metadata": {},
     "output_type": "execute_result"
    }
   ],
   "source": [
    "get_technicals(\"ZM\")"
   ]
  },
  {
   "cell_type": "code",
   "execution_count": null,
   "metadata": {},
   "outputs": [],
   "source": [
    "- 8d EMA\n",
    "- 21d EMA\n",
    "- 50d SMA\n",
    "- 200d SMA\n",
    "- EPS - EARNINGS"
   ]
  }
 ],
 "metadata": {
  "kernelspec": {
   "display_name": "Python 3",
   "language": "python",
   "name": "python3"
  },
  "language_info": {
   "codemirror_mode": {
    "name": "ipython",
    "version": 3
   },
   "file_extension": ".py",
   "mimetype": "text/x-python",
   "name": "python",
   "nbconvert_exporter": "python",
   "pygments_lexer": "ipython3",
   "version": "3.8.3"
  }
 },
 "nbformat": 4,
 "nbformat_minor": 4
}
