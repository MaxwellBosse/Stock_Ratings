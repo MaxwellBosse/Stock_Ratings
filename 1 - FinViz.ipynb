{
 "cells": [
  {
   "cell_type": "code",
   "execution_count": 1,
   "metadata": {},
   "outputs": [],
   "source": [
    "#imports for institutional ownership\n",
    "import pandas as pd\n",
    "import numpy as np\n",
    "from bs4 import BeautifulSoup as bs\n",
    "from urllib.request import Request, urlopen\n",
    "\n",
    "#imports for alphavantage wrapper\n",
    "#!pip install alpha_vantage\n",
    "from alpha_vantage.timeseries import TimeSeries\n",
    "from alpha_vantage.techindicators import TechIndicators\n",
    "from alpha_vantage.fundamentaldata import FundamentalData \n",
    "ts = TimeSeries(key = 'KSTIKHKXANLCVJ2L', output_format = 'pandas', indexing_type = 'date')\n",
    "ti = TechIndicators(key = 'KSTIKHKXANLCVJ2L', output_format = 'pandas', indexing_type = 'date')\n",
    "fd = FundamentalData(key = 'KSTIKHKXANLCVJ2L', output_format = 'pandas', indexing_type = 'date')\n",
    "key = 'HKDDDB1WO21X9QR6'\n",
    "base_url = \"https://www.alphavantage.co/query/\"\n",
    "\n",
    "#\n",
    "from functools import reduce\n"
   ]
  },
  {
   "cell_type": "code",
   "execution_count": 2,
   "metadata": {},
   "outputs": [],
   "source": [
    "ticker = 'DOCU'"
   ]
  },
  {
   "cell_type": "code",
   "execution_count": 3,
   "metadata": {},
   "outputs": [],
   "source": [
    "#scapper - needs user:agent \n",
    "\n",
    "def get_institutional_ownership(ticker):\n",
    "    values = []\n",
    "    values_float = []\n",
    "    columns = ['Institutional_Ownership', 'Change_Instituional_Ownership_3months']\n",
    "    url = (\"http://finviz.com/quote.ashx?t=\" + ticker.lower())\n",
    "    \n",
    "    #use of user-agent to scape finviz from this post - https://stackoverflow.com/questions/54165551/scrape-finviz-page-for-specific-values-in-table\n",
    "    req = Request(url, headers={'User-Agent': 'Mozilla/5.0'})\n",
    "    webpage = urlopen(req).read()\n",
    "    soup = bs(webpage, \"html.parser\")\n",
    "    \n",
    "    #Grab institutional ownership \n",
    "    inst_ownership = soup.find(text = 'Inst Own').find_next(class_ = 'snapshot-td2').text\n",
    "    values.append(inst_ownership)\n",
    "    \n",
    "    #Grab change in instiutional ownership\n",
    "    change_inst_ownership_3mon = soup.find(text = 'Inst Trans').find_next(class_ = 'snapshot-td2').text\n",
    "    values.append(change_inst_ownership_3mon)\n",
    "    \n",
    "    for value in values:\n",
    "        value = value.strip('%')\n",
    "        values_float.append(float(value)/100)\n",
    "    df = pd.DataFrame(data = values_float, index = columns)\n",
    "    df = df.transpose()\n",
    "    return df"
   ]
  },
  {
   "cell_type": "code",
   "execution_count": 4,
   "metadata": {},
   "outputs": [
    {
     "data": {
      "text/html": [
       "<div>\n",
       "<style scoped>\n",
       "    .dataframe tbody tr th:only-of-type {\n",
       "        vertical-align: middle;\n",
       "    }\n",
       "\n",
       "    .dataframe tbody tr th {\n",
       "        vertical-align: top;\n",
       "    }\n",
       "\n",
       "    .dataframe thead th {\n",
       "        text-align: right;\n",
       "    }\n",
       "</style>\n",
       "<table border=\"1\" class=\"dataframe\">\n",
       "  <thead>\n",
       "    <tr style=\"text-align: right;\">\n",
       "      <th></th>\n",
       "      <th>Institutional_Ownership</th>\n",
       "      <th>Change_Instituional_Ownership_3months</th>\n",
       "    </tr>\n",
       "  </thead>\n",
       "  <tbody>\n",
       "    <tr>\n",
       "      <th>0</th>\n",
       "      <td>0.753</td>\n",
       "      <td>0.0009</td>\n",
       "    </tr>\n",
       "  </tbody>\n",
       "</table>\n",
       "</div>"
      ],
      "text/plain": [
       "   Institutional_Ownership  Change_Instituional_Ownership_3months\n",
       "0                    0.753                                 0.0009"
      ]
     },
     "execution_count": 4,
     "metadata": {},
     "output_type": "execute_result"
    }
   ],
   "source": [
    "df = get_institutional_ownership(ticker)\n",
    "df.head()"
   ]
  },
  {
   "cell_type": "code",
   "execution_count": 5,
   "metadata": {},
   "outputs": [],
   "source": [
    "#Get ROE value from Alpha Vantage\n",
    "data, meta_data = fd.get_company_overview(symbol = ticker)\n",
    "df['ROE_TTM'] = float(data['ReturnOnEquityTTM'])"
   ]
  },
  {
   "cell_type": "code",
   "execution_count": 6,
   "metadata": {},
   "outputs": [
    {
     "data": {
      "text/html": [
       "<div>\n",
       "<style scoped>\n",
       "    .dataframe tbody tr th:only-of-type {\n",
       "        vertical-align: middle;\n",
       "    }\n",
       "\n",
       "    .dataframe tbody tr th {\n",
       "        vertical-align: top;\n",
       "    }\n",
       "\n",
       "    .dataframe thead th {\n",
       "        text-align: right;\n",
       "    }\n",
       "</style>\n",
       "<table border=\"1\" class=\"dataframe\">\n",
       "  <thead>\n",
       "    <tr style=\"text-align: right;\">\n",
       "      <th></th>\n",
       "      <th>Institutional_Ownership</th>\n",
       "      <th>Change_Instituional_Ownership_3months</th>\n",
       "      <th>ROE_TTM</th>\n",
       "    </tr>\n",
       "  </thead>\n",
       "  <tbody>\n",
       "    <tr>\n",
       "      <th>0</th>\n",
       "      <td>0.753</td>\n",
       "      <td>0.0009</td>\n",
       "      <td>-0.4385</td>\n",
       "    </tr>\n",
       "  </tbody>\n",
       "</table>\n",
       "</div>"
      ],
      "text/plain": [
       "   Institutional_Ownership  Change_Instituional_Ownership_3months  ROE_TTM\n",
       "0                    0.753                                 0.0009  -0.4385"
      ]
     },
     "execution_count": 6,
     "metadata": {},
     "output_type": "execute_result"
    }
   ],
   "source": [
    "df"
   ]
  },
  {
   "cell_type": "code",
   "execution_count": 7,
   "metadata": {},
   "outputs": [
    {
     "data": {
      "text/plain": [
       "Institutional_Ownership                  float64\n",
       "Change_Instituional_Ownership_3months    float64\n",
       "ROE_TTM                                  float64\n",
       "dtype: object"
      ]
     },
     "execution_count": 7,
     "metadata": {},
     "output_type": "execute_result"
    }
   ],
   "source": [
    "df.dtypes"
   ]
  },
  {
   "cell_type": "code",
   "execution_count": 8,
   "metadata": {},
   "outputs": [
    {
     "data": {
      "text/html": [
       "<div>\n",
       "<style scoped>\n",
       "    .dataframe tbody tr th:only-of-type {\n",
       "        vertical-align: middle;\n",
       "    }\n",
       "\n",
       "    .dataframe tbody tr th {\n",
       "        vertical-align: top;\n",
       "    }\n",
       "\n",
       "    .dataframe thead th {\n",
       "        text-align: right;\n",
       "    }\n",
       "</style>\n",
       "<table border=\"1\" class=\"dataframe\">\n",
       "  <thead>\n",
       "    <tr style=\"text-align: right;\">\n",
       "      <th></th>\n",
       "      <th>IWO_5d_EMA</th>\n",
       "      <th>IWO_10d_EMA</th>\n",
       "      <th>IWO_150d_EMA</th>\n",
       "    </tr>\n",
       "    <tr>\n",
       "      <th>date</th>\n",
       "      <th></th>\n",
       "      <th></th>\n",
       "      <th></th>\n",
       "    </tr>\n",
       "  </thead>\n",
       "  <tbody>\n",
       "    <tr>\n",
       "      <th>2021-01-21</th>\n",
       "      <td>311.061</td>\n",
       "      <td>307.0653</td>\n",
       "      <td>248.0636</td>\n",
       "    </tr>\n",
       "  </tbody>\n",
       "</table>\n",
       "</div>"
      ],
      "text/plain": [
       "            IWO_5d_EMA  IWO_10d_EMA  IWO_150d_EMA\n",
       "date                                             \n",
       "2021-01-21     311.061     307.0653      248.0636"
      ]
     },
     "execution_count": 8,
     "metadata": {},
     "output_type": "execute_result"
    }
   ],
   "source": [
    "#Import Data used to determine market direction (short term and long term trend)\n",
    "data_150, meta_data = ti.get_ema(symbol = 'IWO', interval='daily', time_period = 150, series_type = 'close')\n",
    "data_5, meta_data = ti.get_ema(symbol = 'IWO', interval='daily', time_period = 5, series_type = 'close')\n",
    "data_10, meta_data = ti.get_ema(symbol = 'IWO', interval='daily', time_period = 10, series_type = 'close')\n",
    "dfs = [data_5, data_10, data_150]\n",
    "\n",
    "#merge three dataframes and pull last entry (which is the most relevant telling us the current market direction (short term and long))\n",
    "#https://stackoverflow.com/questions/23668427/pandas-three-way-joining-multiple-dataframes-on-columns\n",
    "trend = reduce(lambda left, right: pd.merge(left, right, on='date', how = 'inner'), dfs)\n",
    "trend.columns = ['IWO_5d_EMA', 'IWO_10d_EMA', 'IWO_150d_EMA']\n",
    "trend = trend.iloc[[-1]]\n",
    "trend"
   ]
  },
  {
   "cell_type": "code",
   "execution_count": 9,
   "metadata": {},
   "outputs": [
    {
     "data": {
      "text/html": [
       "<div>\n",
       "<style scoped>\n",
       "    .dataframe tbody tr th:only-of-type {\n",
       "        vertical-align: middle;\n",
       "    }\n",
       "\n",
       "    .dataframe tbody tr th {\n",
       "        vertical-align: top;\n",
       "    }\n",
       "\n",
       "    .dataframe thead th {\n",
       "        text-align: right;\n",
       "    }\n",
       "</style>\n",
       "<table border=\"1\" class=\"dataframe\">\n",
       "  <thead>\n",
       "    <tr style=\"text-align: right;\">\n",
       "      <th></th>\n",
       "      <th>IWO_5d_EMA</th>\n",
       "      <th>IWO_10d_EMA</th>\n",
       "      <th>IWO_150d_EMA</th>\n",
       "      <th>Institutional_Ownership</th>\n",
       "      <th>Change_Instituional_Ownership_3months</th>\n",
       "      <th>ROE_TTM</th>\n",
       "    </tr>\n",
       "    <tr>\n",
       "      <th>date</th>\n",
       "      <th></th>\n",
       "      <th></th>\n",
       "      <th></th>\n",
       "      <th></th>\n",
       "      <th></th>\n",
       "      <th></th>\n",
       "    </tr>\n",
       "  </thead>\n",
       "  <tbody>\n",
       "    <tr>\n",
       "      <th>2021-01-21</th>\n",
       "      <td>311.061</td>\n",
       "      <td>307.0653</td>\n",
       "      <td>248.0636</td>\n",
       "      <td>0.753</td>\n",
       "      <td>0.0009</td>\n",
       "      <td>-0.4385</td>\n",
       "    </tr>\n",
       "  </tbody>\n",
       "</table>\n",
       "</div>"
      ],
      "text/plain": [
       "            IWO_5d_EMA  IWO_10d_EMA  IWO_150d_EMA  Institutional_Ownership  \\\n",
       "date                                                                         \n",
       "2021-01-21     311.061     307.0653      248.0636                    0.753   \n",
       "\n",
       "            Change_Instituional_Ownership_3months  ROE_TTM  \n",
       "date                                                        \n",
       "2021-01-21                                 0.0009  -0.4385  "
      ]
     },
     "execution_count": 9,
     "metadata": {},
     "output_type": "execute_result"
    }
   ],
   "source": [
    "#Join all inforamtion used for CANSLIM screener into one DF and export to data folder\n",
    "\n",
    "df = trend.join(df.set_index(trend.index))\n",
    "df.head()"
   ]
  },
  {
   "cell_type": "code",
   "execution_count": 10,
   "metadata": {},
   "outputs": [],
   "source": [
    "df.to_csv(f'data/{ticker}_CANSLIM_data.csv')"
   ]
  },
  {
   "cell_type": "code",
   "execution_count": null,
   "metadata": {},
   "outputs": [],
   "source": []
  }
 ],
 "metadata": {
  "kernelspec": {
   "display_name": "Python 3",
   "language": "python",
   "name": "python3"
  },
  "language_info": {
   "codemirror_mode": {
    "name": "ipython",
    "version": 3
   },
   "file_extension": ".py",
   "mimetype": "text/x-python",
   "name": "python",
   "nbconvert_exporter": "python",
   "pygments_lexer": "ipython3",
   "version": "3.8.3"
  }
 },
 "nbformat": 4,
 "nbformat_minor": 4
}
