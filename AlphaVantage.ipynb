{
 "cells": [
  {
   "cell_type": "code",
   "execution_count": 1,
   "metadata": {},
   "outputs": [],
   "source": [
    "import requests\n",
    "import pandas as pd\n",
    "import matplotlib.pyplot as plt\n"
   ]
  },
  {
   "cell_type": "code",
   "execution_count": 2,
   "metadata": {},
   "outputs": [],
   "source": [
    "key = 'KSTIKHKXANLCVJ2L'\n",
    "base_url = \"https://www.alphavantage.co/query/\""
   ]
  },
  {
   "cell_type": "code",
   "execution_count": 100,
   "metadata": {},
   "outputs": [],
   "source": [
    "#build out a request\n",
    "res = requests.get(url=base_url, params={\n",
    "    \"function\":\"EARNINGS\",\n",
    "    \"symbol\":f'{ticker}',\n",
    "    'apikey':key})"
   ]
  },
  {
   "cell_type": "code",
   "execution_count": 101,
   "metadata": {},
   "outputs": [
    {
     "data": {
      "text/plain": [
       "200"
      ]
     },
     "execution_count": 101,
     "metadata": {},
     "output_type": "execute_result"
    }
   ],
   "source": [
    "res.status_code"
   ]
  },
  {
   "cell_type": "code",
   "execution_count": 105,
   "metadata": {},
   "outputs": [
    {
     "ename": "AttributeError",
     "evalue": "'dict' object has no attribute 'json'",
     "output_type": "error",
     "traceback": [
      "\u001b[0;31m---------------------------------------------------------------------------\u001b[0m",
      "\u001b[0;31mAttributeError\u001b[0m                            Traceback (most recent call last)",
      "\u001b[0;32m<ipython-input-105-5325d7ce8af3>\u001b[0m in \u001b[0;36m<module>\u001b[0;34m\u001b[0m\n\u001b[1;32m      1\u001b[0m \u001b[0mEPS\u001b[0m \u001b[0;34m=\u001b[0m \u001b[0mres\u001b[0m\u001b[0;34m.\u001b[0m\u001b[0mjson\u001b[0m\u001b[0;34m(\u001b[0m\u001b[0;34m)\u001b[0m\u001b[0;34m\u001b[0m\u001b[0;34m\u001b[0m\u001b[0m\n\u001b[0;32m----> 2\u001b[0;31m \u001b[0m_\u001b[0m\u001b[0;34m,\u001b[0m \u001b[0mheader\u001b[0m \u001b[0;34m=\u001b[0m \u001b[0mEPS\u001b[0m\u001b[0;34m.\u001b[0m\u001b[0mjson\u001b[0m\u001b[0;34m(\u001b[0m\u001b[0;34m)\u001b[0m\u001b[0;34m\u001b[0m\u001b[0;34m\u001b[0m\u001b[0m\n\u001b[0m\u001b[1;32m      3\u001b[0m \u001b[0mdf\u001b[0m \u001b[0;34m=\u001b[0m \u001b[0mpd\u001b[0m\u001b[0;34m.\u001b[0m\u001b[0mDataFrame\u001b[0m\u001b[0;34m.\u001b[0m\u001b[0mfrom_dict\u001b[0m\u001b[0;34m(\u001b[0m\u001b[0mEPS\u001b[0m\u001b[0;34m[\u001b[0m\u001b[0mheader\u001b[0m\u001b[0;34m]\u001b[0m\u001b[0;34m,\u001b[0m \u001b[0morient\u001b[0m\u001b[0;34m=\u001b[0m \u001b[0;34m'index'\u001b[0m\u001b[0;34m)\u001b[0m\u001b[0;34m\u001b[0m\u001b[0;34m\u001b[0m\u001b[0m\n",
      "\u001b[0;31mAttributeError\u001b[0m: 'dict' object has no attribute 'json'"
     ]
    }
   ],
   "source": [
    "EPS = res.json()\n",
    "_, header = EPS.json()\n",
    "df = pd.DataFrame.from_dict(EPS[header], orient= 'index')"
   ]
  },
  {
   "cell_type": "code",
   "execution_count": 109,
   "metadata": {},
   "outputs": [
    {
     "data": {
      "text/plain": [
       "dict_values(['ZM', [{'fiscalDateEnding': '2020-10-31', 'reportedEPS': '2.11'}, {'fiscalDateEnding': '2020-01-31', 'reportedEPS': '0.35'}], [{'fiscalDateEnding': '2020-10-31', 'reportedDate': '2020-11-30', 'reportedEPS': '0.99', 'estimatedEPS': '0.7604', 'surprise': '0.2296', 'surprisePercentage': '30.1946'}, {'fiscalDateEnding': '2020-07-31', 'reportedDate': '2020-08-31', 'reportedEPS': '0.92', 'estimatedEPS': '0.4538', 'surprise': '0.4662', 'surprisePercentage': '102.7325'}, {'fiscalDateEnding': '2020-04-30', 'reportedDate': '2020-06-02', 'reportedEPS': '0.2', 'estimatedEPS': '0.0985', 'surprise': '0.1015', 'surprisePercentage': '103.0457'}, {'fiscalDateEnding': '2020-01-31', 'reportedDate': '2020-03-04', 'reportedEPS': '0.15', 'estimatedEPS': '0.0711', 'surprise': '0.0789', 'surprisePercentage': '110.9705'}, {'fiscalDateEnding': '2019-10-31', 'reportedDate': '2019-12-05', 'reportedEPS': '0.09', 'estimatedEPS': '0.0311', 'surprise': '0.0589', 'surprisePercentage': '189.3891'}, {'fiscalDateEnding': '2019-07-31', 'reportedDate': '2019-09-05', 'reportedEPS': '0.08', 'estimatedEPS': '0.0144', 'surprise': '0.0656', 'surprisePercentage': '455.5556'}, {'fiscalDateEnding': '2019-04-30', 'reportedDate': '2019-06-06', 'reportedEPS': '0.03', 'estimatedEPS': '0.0061', 'surprise': '0.0239', 'surprisePercentage': '391.8033'}]])"
      ]
     },
     "execution_count": 109,
     "metadata": {},
     "output_type": "execute_result"
    }
   ],
   "source": [
    "EPS.values()"
   ]
  },
  {
   "cell_type": "code",
   "execution_count": 8,
   "metadata": {},
   "outputs": [],
   "source": [
    "ema_dict = res1.json()\n",
    "#sperate jsono response (stock price data) from the information related to the query\n",
    "_, header = res1.json()\n",
    "#create dataframe with timestamp as index \n",
    "df = pd.DataFrame.from_dict(ema_dict[header], orient= 'index')"
   ]
  },
  {
   "cell_type": "markdown",
   "metadata": {},
   "source": [
    "Process to make a dataframe for a ticker"
   ]
  },
  {
   "cell_type": "code",
   "execution_count": 88,
   "metadata": {},
   "outputs": [],
   "source": [
    "ticker = 'ZM'"
   ]
  },
  {
   "cell_type": "code",
   "execution_count": 94,
   "metadata": {},
   "outputs": [],
   "source": [
    "# Create list of parameter dictionaries\n",
    "param_list = [{'EMA_8' : {\n",
    "    \"function\":\"EMA\",\n",
    "    \"interval\":\"daily\",\n",
    "    \"symbol\":f'{ticker}',\n",
    "    \"time_period\": \"8\",\n",
    "    \"series_type\": \"high\",\n",
    "    'apikey':key}}, \n",
    " \n",
    "{'EMA_21':{\n",
    "    \"function\":\"EMA\",\n",
    "    \"interval\":\"daily\",\n",
    "    \"symbol\":f'{ticker}',\n",
    "    \"time_period\": \"21\",\n",
    "    \"series_type\": \"high\",\n",
    "    'apikey':key}}, \n",
    "                        \n",
    "{'SMA_50':{\n",
    "    \"function\":\"SMA\",\n",
    "    \"interval\":\"daily\",\n",
    "    \"symbol\":f'{ticker}',\n",
    "    \"time_period\": \"50\",\n",
    "    \"series_type\": \"high\",\n",
    "    'apikey':key}},\n",
    "              \n",
    "{'SMA_200':{\n",
    "    \"function\":\"SMA\",\n",
    "    \"interval\":\"daily\",\n",
    "    \"symbol\":f'{ticker}',\n",
    "    \"time_period\": \"200\",\n",
    "    \"series_type\": \"high\",\n",
    "    'apikey':key}},\n",
    "             \n",
    "{'EPS':{\n",
    "    \"function\":\"EARNINGS\",\n",
    "    \"symbol\":f'{ticker}',\n",
    "    'apikey':key}}             \n",
    "             \n",
    "             \n",
    "             \n",
    "             ]"
   ]
  },
  {
   "cell_type": "code",
   "execution_count": 95,
   "metadata": {},
   "outputs": [
    {
     "name": "stdout",
     "output_type": "stream",
     "text": [
      "EMA_8\n",
      "EMA_21\n",
      "SMA_50\n",
      "SMA_200\n",
      "EPS\n"
     ]
    }
   ],
   "source": [
    "for i in param_list:    \n",
    "    for k, v in i.items():\n",
    "        print(k)\n",
    "        "
   ]
  },
  {
   "cell_type": "code",
   "execution_count": 96,
   "metadata": {},
   "outputs": [],
   "source": [
    "def get_technicals(ticker):\n",
    "    key = 'KSTIKHKXANLCVJ2L'\n",
    "    base_url = \"https://www.alphavantage.co/query/\"\n",
    "    dfs = []\n",
    "    cols = []\n",
    "    for i in param_list:    \n",
    "        for k, v in i.items():\n",
    "            res = requests.get(url=base_url, params = v)\n",
    "            res_dict = res.json()\n",
    "            _, header = res.json()\n",
    "            df = pd.DataFrame.from_dict(res_dict[header], orient= 'index')\n",
    "            dfs.append(df)\n",
    "            cols.append(k)\n",
    "    df = pd.concat(dfs, axis = 1)\n",
    "    df.columns = cols\n",
    "    return df\n",
    "            "
   ]
  },
  {
   "cell_type": "code",
   "execution_count": 97,
   "metadata": {},
   "outputs": [
    {
     "ename": "ValueError",
     "evalue": "too many values to unpack (expected 2)",
     "output_type": "error",
     "traceback": [
      "\u001b[0;31m---------------------------------------------------------------------------\u001b[0m",
      "\u001b[0;31mValueError\u001b[0m                                Traceback (most recent call last)",
      "\u001b[0;32m<ipython-input-97-aad6bc404db3>\u001b[0m in \u001b[0;36m<module>\u001b[0;34m\u001b[0m\n\u001b[0;32m----> 1\u001b[0;31m \u001b[0mget_technicals\u001b[0m\u001b[0;34m(\u001b[0m\u001b[0;34m'ZM'\u001b[0m\u001b[0;34m)\u001b[0m\u001b[0;34m\u001b[0m\u001b[0;34m\u001b[0m\u001b[0m\n\u001b[0m",
      "\u001b[0;32m<ipython-input-96-a00a593a5118>\u001b[0m in \u001b[0;36mget_technicals\u001b[0;34m(ticker)\u001b[0m\n\u001b[1;32m      8\u001b[0m             \u001b[0mres\u001b[0m \u001b[0;34m=\u001b[0m \u001b[0mrequests\u001b[0m\u001b[0;34m.\u001b[0m\u001b[0mget\u001b[0m\u001b[0;34m(\u001b[0m\u001b[0murl\u001b[0m\u001b[0;34m=\u001b[0m\u001b[0mbase_url\u001b[0m\u001b[0;34m,\u001b[0m \u001b[0mparams\u001b[0m \u001b[0;34m=\u001b[0m \u001b[0mv\u001b[0m\u001b[0;34m)\u001b[0m\u001b[0;34m\u001b[0m\u001b[0;34m\u001b[0m\u001b[0m\n\u001b[1;32m      9\u001b[0m             \u001b[0mres_dict\u001b[0m \u001b[0;34m=\u001b[0m \u001b[0mres\u001b[0m\u001b[0;34m.\u001b[0m\u001b[0mjson\u001b[0m\u001b[0;34m(\u001b[0m\u001b[0;34m)\u001b[0m\u001b[0;34m\u001b[0m\u001b[0;34m\u001b[0m\u001b[0m\n\u001b[0;32m---> 10\u001b[0;31m             \u001b[0m_\u001b[0m\u001b[0;34m,\u001b[0m \u001b[0mheader\u001b[0m \u001b[0;34m=\u001b[0m \u001b[0mres\u001b[0m\u001b[0;34m.\u001b[0m\u001b[0mjson\u001b[0m\u001b[0;34m(\u001b[0m\u001b[0;34m)\u001b[0m\u001b[0;34m\u001b[0m\u001b[0;34m\u001b[0m\u001b[0m\n\u001b[0m\u001b[1;32m     11\u001b[0m             \u001b[0mdf\u001b[0m \u001b[0;34m=\u001b[0m \u001b[0mpd\u001b[0m\u001b[0;34m.\u001b[0m\u001b[0mDataFrame\u001b[0m\u001b[0;34m.\u001b[0m\u001b[0mfrom_dict\u001b[0m\u001b[0;34m(\u001b[0m\u001b[0mres_dict\u001b[0m\u001b[0;34m[\u001b[0m\u001b[0mheader\u001b[0m\u001b[0;34m]\u001b[0m\u001b[0;34m,\u001b[0m \u001b[0morient\u001b[0m\u001b[0;34m=\u001b[0m \u001b[0;34m'index'\u001b[0m\u001b[0;34m)\u001b[0m\u001b[0;34m\u001b[0m\u001b[0;34m\u001b[0m\u001b[0m\n\u001b[1;32m     12\u001b[0m             \u001b[0mdfs\u001b[0m\u001b[0;34m.\u001b[0m\u001b[0mappend\u001b[0m\u001b[0;34m(\u001b[0m\u001b[0mdf\u001b[0m\u001b[0;34m)\u001b[0m\u001b[0;34m\u001b[0m\u001b[0;34m\u001b[0m\u001b[0m\n",
      "\u001b[0;31mValueError\u001b[0m: too many values to unpack (expected 2)"
     ]
    }
   ],
   "source": [
    "get_technicals('ZM')"
   ]
  },
  {
   "cell_type": "code",
   "execution_count": 112,
   "metadata": {},
   "outputs": [
    {
     "ename": "SyntaxError",
     "evalue": "EOL while scanning string literal (<ipython-input-112-d690a3026112>, line 26)",
     "output_type": "error",
     "traceback": [
      "\u001b[0;36m  File \u001b[0;32m\"<ipython-input-112-d690a3026112>\"\u001b[0;36m, line \u001b[0;32m26\u001b[0m\n\u001b[0;31m    elif func == 'OVERVIEW:\u001b[0m\n\u001b[0m                           ^\u001b[0m\n\u001b[0;31mSyntaxError\u001b[0m\u001b[0;31m:\u001b[0m EOL while scanning string literal\n"
     ]
    }
   ],
   "source": [
    "API_URL = \"https://www.alphavantage.co/query\" \n",
    "func = 'OVERVIEW'\n",
    "symbol = 'ZM'\n",
    "data = { \n",
    "    \"function\": func, \n",
    "    \"symbol\": symbol,\n",
    "    \"outputsize\" : \"compact\",\n",
    "    \"datatype\": \"json\", \n",
    "    \"apikey\": api_key} \n",
    "\n",
    "response = requests.get(API_URL, data) \n",
    "response_json = response.json() # maybe redundant\n",
    "\n",
    "if func == 'TIME_SERIES_DAILY' :\n",
    "    df = pd.DataFrame.from_dict(response_json['Time Series (Daily)'], orient= 'index')\n",
    "    df.index =  pd.to_datetime(df.index, format='%Y-%m-%d')\n",
    "    \n",
    "    df = df.rename(columns={ '1. open': 'Open', '2. high': 'High', '3. low': 'Low', '4. close': 'Close', '5. volume': 'Volume'})\n",
    "    df = df.astype({'Open': 'float64', 'High': 'float64', 'Low': 'float64','Close': 'float64','Volume': 'float64',})\n",
    "    df = df[[ 'Open', 'High', 'Low', 'Close', 'Volume']]\n",
    "elif func == 'INCOME_STATEMENT':\n",
    "    \n",
    "    df = pd.DataFrame(response_json['annualReports'])\n",
    "    df.set_index('fiscalDateEnding', inplace=True)\n",
    "    print(df)\n",
    "elif func == 'OVERVIEW:\n",
    "    print('----------')\n",
    "    print(response_json['Name'])\n",
    "    print('----------')"
   ]
  },
  {
   "cell_type": "code",
   "execution_count": null,
   "metadata": {},
   "outputs": [],
   "source": []
  }
 ],
 "metadata": {
  "kernelspec": {
   "display_name": "Python 3",
   "language": "python",
   "name": "python3"
  },
  "language_info": {
   "codemirror_mode": {
    "name": "ipython",
    "version": 3
   },
   "file_extension": ".py",
   "mimetype": "text/x-python",
   "name": "python",
   "nbconvert_exporter": "python",
   "pygments_lexer": "ipython3",
   "version": "3.8.3"
  }
 },
 "nbformat": 4,
 "nbformat_minor": 4
}
