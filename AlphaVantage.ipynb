{
 "cells": [
  {
   "cell_type": "code",
   "execution_count": 1,
   "metadata": {},
   "outputs": [],
   "source": [
    "import requests\n",
    "import pandas as pd\n",
    "import matplotlib.pyplot as plt\n"
   ]
  },
  {
   "cell_type": "code",
   "execution_count": 2,
   "metadata": {},
   "outputs": [],
   "source": [
    "key = 'HKDDDB1WO21X9QR6'\n",
    "base_url = \"https://www.alphavantage.co/query/\""
   ]
  },
  {
   "cell_type": "markdown",
   "metadata": {},
   "source": [
    "Process to make a dataframe for a ticker"
   ]
  },
  {
   "cell_type": "code",
   "execution_count": 9,
   "metadata": {},
   "outputs": [],
   "source": [
    "# Create list of parameter dictionaries\n",
    "def build_params(ticker):\n",
    "    param_list = [{'EMA_8' : {\n",
    "    \"function\":\"EMA\",\n",
    "    \"interval\":\"daily\",\n",
    "    \"symbol\":f'{ticker}',\n",
    "    \"time_period\": \"8\",\n",
    "    \"series_type\": \"high\",\n",
    "    'apikey':key}}, \n",
    " \n",
    "    {'EMA_21':{\n",
    "    \"function\":\"EMA\",\n",
    "    \"interval\":\"daily\",\n",
    "    \"symbol\":f'{ticker}',\n",
    "    \"time_period\": \"21\",\n",
    "    \"series_type\": \"high\",\n",
    "    'apikey':key}}, \n",
    "                        \n",
    "    {'SMA_50':{\n",
    "    \"function\":\"SMA\",\n",
    "    \"interval\":\"daily\",\n",
    "    \"symbol\":f'{ticker}',\n",
    "    \"time_period\": \"50\",\n",
    "    \"series_type\": \"high\",\n",
    "    'apikey':key}},\n",
    "              \n",
    "    {'SMA_200':{\n",
    "    \"function\":\"SMA\",\n",
    "    \"interval\":\"daily\",\n",
    "    \"symbol\":f'{ticker}',\n",
    "    \"time_period\": \"200\",\n",
    "    \"series_type\": \"high\",\n",
    "    'apikey':key}}\n",
    "             \n",
    "    ]\n",
    "    return param_list"
   ]
  },
  {
   "cell_type": "code",
   "execution_count": 13,
   "metadata": {},
   "outputs": [],
   "source": [
    "def get_technicals(stock):\n",
    "    key = 'KSTIKHKXANLCVJ2L'\n",
    "    base_url = \"https://www.alphavantage.co/query/\"\n",
    "    ticker = stock\n",
    "    dfs = []\n",
    "    cols = []\n",
    "    param_list = build_params(ticker)\n",
    "    for i in param_list:    \n",
    "        for k, v in i.items():\n",
    "            res = requests.get(url=base_url, params = v)\n",
    "            res_dict = res.json()\n",
    "            _, header = res.json()\n",
    "            df = pd.DataFrame.from_dict(res_dict[header], orient= 'index')\n",
    "            dfs.append(df)\n",
    "            cols.append(k)\n",
    "    df = pd.concat(dfs, axis = 1)\n",
    "    df.columns = cols\n",
    "    return df\n",
    "            "
   ]
  },
  {
   "cell_type": "code",
   "execution_count": 1,
   "metadata": {},
   "outputs": [
    {
     "ename": "NameError",
     "evalue": "name 'get_technicals' is not defined",
     "output_type": "error",
     "traceback": [
      "\u001b[0;31m---------------------------------------------------------------------------\u001b[0m",
      "\u001b[0;31mNameError\u001b[0m                                 Traceback (most recent call last)",
      "\u001b[0;32m<ipython-input-1-fcdc05af5ea0>\u001b[0m in \u001b[0;36m<module>\u001b[0;34m\u001b[0m\n\u001b[0;32m----> 1\u001b[0;31m \u001b[0mget_technicals\u001b[0m\u001b[0;34m(\u001b[0m\u001b[0mticker\u001b[0m\u001b[0;34m)\u001b[0m\u001b[0;34m\u001b[0m\u001b[0;34m\u001b[0m\u001b[0m\n\u001b[0m",
      "\u001b[0;31mNameError\u001b[0m: name 'get_technicals' is not defined"
     ]
    }
   ],
   "source": [
    "get_technicals(ticker)"
   ]
  },
  {
   "cell_type": "code",
   "execution_count": 1,
   "metadata": {},
   "outputs": [
    {
     "ename": "NameError",
     "evalue": "name 'ts' is not defined",
     "output_type": "error",
     "traceback": [
      "\u001b[0;31m---------------------------------------------------------------------------\u001b[0m",
      "\u001b[0;31mNameError\u001b[0m                                 Traceback (most recent call last)",
      "\u001b[0;32m<ipython-input-1-4f063c1b3c0a>\u001b[0m in \u001b[0;36m<module>\u001b[0;34m\u001b[0m\n\u001b[1;32m      1\u001b[0m \u001b[0;31m# Get daily stock data\u001b[0m\u001b[0;34m\u001b[0m\u001b[0;34m\u001b[0m\u001b[0;34m\u001b[0m\u001b[0m\n\u001b[0;32m----> 2\u001b[0;31m \u001b[0mdata\u001b[0m\u001b[0;34m,\u001b[0m \u001b[0mmeta_data\u001b[0m \u001b[0;34m=\u001b[0m \u001b[0mts\u001b[0m\u001b[0;34m.\u001b[0m\u001b[0mget_daily\u001b[0m\u001b[0;34m(\u001b[0m\u001b[0msymbol\u001b[0m \u001b[0;34m=\u001b[0m \u001b[0mticker\u001b[0m\u001b[0;34m,\u001b[0m \u001b[0moutputsize\u001b[0m \u001b[0;34m=\u001b[0m \u001b[0;34m'full'\u001b[0m\u001b[0;34m)\u001b[0m\u001b[0;34m\u001b[0m\u001b[0;34m\u001b[0m\u001b[0m\n\u001b[0m\u001b[1;32m      3\u001b[0m \u001b[0mdata\u001b[0m\u001b[0;34m\u001b[0m\u001b[0;34m\u001b[0m\u001b[0m\n",
      "\u001b[0;31mNameError\u001b[0m: name 'ts' is not defined"
     ]
    }
   ],
   "source": [
    "# Get daily stock data\n",
    "data, meta_data = ts.get_daily(symbol = ticker, outputsize = 'full')\n",
    "data"
   ]
  },
  {
   "cell_type": "code",
   "execution_count": null,
   "metadata": {},
   "outputs": [],
   "source": []
  }
 ],
 "metadata": {
  "kernelspec": {
   "display_name": "Python 3",
   "language": "python",
   "name": "python3"
  },
  "language_info": {
   "codemirror_mode": {
    "name": "ipython",
    "version": 3
   },
   "file_extension": ".py",
   "mimetype": "text/x-python",
   "name": "python",
   "nbconvert_exporter": "python",
   "pygments_lexer": "ipython3",
   "version": "3.8.3"
  }
 },
 "nbformat": 4,
 "nbformat_minor": 4
}
