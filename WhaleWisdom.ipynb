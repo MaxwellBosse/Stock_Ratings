{
 "cells": [
  {
   "cell_type": "code",
   "execution_count": 3,
   "metadata": {},
   "outputs": [],
   "source": [
    "#imports\n",
    "import requests\n",
    "import pandas as pd\n",
    "import matplotlib.pyplot as plt"
   ]
  },
  {
   "cell_type": "code",
   "execution_count": 4,
   "metadata": {},
   "outputs": [],
   "source": [
    "api_sig = 'vItzd0H4qQaIqEPBOcdI'\n",
    "api_shared_key = 'eFByd32wkoKe4XFvPGLy3hkLIdt2PXHkkgR8o1fe'\n",
    "base_url = ' https://whalewisdom.com/shell/command'"
   ]
  },
  {
   "cell_type": "code",
   "execution_count": 5,
   "metadata": {},
   "outputs": [
    {
     "ename": "SyntaxError",
     "evalue": "invalid syntax (<ipython-input-5-c257cceeb806>, line 3)",
     "output_type": "error",
     "traceback": [
      "\u001b[0;36m  File \u001b[0;32m\"<ipython-input-5-c257cceeb806>\"\u001b[0;36m, line \u001b[0;32m3\u001b[0m\n\u001b[0;31m    [args]:      ,\u001b[0m\n\u001b[0m                 ^\u001b[0m\n\u001b[0;31mSyntaxError\u001b[0m\u001b[0;31m:\u001b[0m invalid syntax\n"
     ]
    }
   ],
   "source": [
    "#build out a request\n",
    "res = requests.get(url=base_url, params={\n",
    "        [args]:      ,\n",
    "        [.output_type]:     ,\n",
    "        [api_shared_key]:   ,\n",
    "        [api_sig]:     ,\n",
    "})"
   ]
  },
  {
   "cell_type": "code",
   "execution_count": 6,
   "metadata": {},
   "outputs": [],
   "source": [
    "import hashlib\n",
    "import hmac\n",
    "import time\n",
    "import base64\n",
    "from urllib.parse import quote_plus\n",
    "import pycurl\n",
    "from io import StringIO\n",
    "from io import BytesIO\n",
    "import certifi"
   ]
  },
  {
   "cell_type": "code",
   "execution_count": 17,
   "metadata": {},
   "outputs": [
    {
     "data": {
      "text/plain": [
       "b'{\"status\":500,\"error\":\"Internal Server Error\"}'"
      ]
     },
     "execution_count": 17,
     "metadata": {},
     "output_type": "execute_result"
    }
   ],
   "source": [
    "json_args = '{\"command\":\"holdings_comparison\",\"filerid\":200,\"q1id\":77,\"q2id\":79,\"order\":\"q2_shares\",\"dir\":\"DESC\"}'\n",
    "\n",
    "secret_key = 'eFByd32wkoKe4XFvPGLy3hkLIdt2PXHkkgR8o1fe'\n",
    "shared_key = 'vItzd0H4qQaIqEPBOcdI'\n",
    "formatted_args = quote_plus(json_args)\n",
    "timenow = time.strftime('%Y-%m-%dT%H:%M:%SZ', time.gmtime())\n",
    "digest = hashlib.sha1\n",
    "raw_args=json_args+'\\n'+timenow\n",
    "hmac_hash = hmac.new(secret_key.encode(),raw_args.encode(),digest).digest()\n",
    "sig = base64.b64encode(hmac_hash).rstrip()\n",
    "url_base = 'https://whalewisdom.com/shell/command.json?'\n",
    "url_args = 'args=' + formatted_args\n",
    "url_end = '&api_shared_key=' + shared_key + '&api_sig=' + sig.decode() + '&timestamp=' + timenow\n",
    "api_url = url_base + url_args + url_end\n",
    "buffer = BytesIO()\n",
    "c = pycurl.Curl()\n",
    "c.setopt(c.CAINFO, certifi.where())\n",
    "c.setopt(c.URL, api_url)\n",
    "c.setopt(pycurl.WRITEFUNCTION, buffer.write)\n",
    "c.perform()\n",
    "c.close()\n",
    "body = buffer.getvalue()\n",
    "body"
   ]
  },
  {
   "cell_type": "code",
   "execution_count": null,
   "metadata": {},
   "outputs": [],
   "source": []
  }
 ],
 "metadata": {
  "kernelspec": {
   "display_name": "Python 3",
   "language": "python",
   "name": "python3"
  },
  "language_info": {
   "codemirror_mode": {
    "name": "ipython",
    "version": 3
   },
   "file_extension": ".py",
   "mimetype": "text/x-python",
   "name": "python",
   "nbconvert_exporter": "python",
   "pygments_lexer": "ipython3",
   "version": "3.8.3"
  }
 },
 "nbformat": 4,
 "nbformat_minor": 4
}
