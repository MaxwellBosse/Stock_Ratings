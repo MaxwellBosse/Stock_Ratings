{
 "cells": [
  {
   "cell_type": "code",
   "execution_count": 1,
   "metadata": {},
   "outputs": [],
   "source": [
    "import requests\n",
    "import pandas as pd\n",
    "import matplotlib.pyplot as plt\n",
    "\n",
    "#!pip install alpha_vantage\n",
    "from alpha_vantage.timeseries import TimeSeries\n",
    "from alpha_vantage.techindicators import TechIndicators\n",
    "from alpha_vantage.fundamentaldata import FundamentalData \n",
    "ts = TimeSeries(key = 'KSTIKHKXANLCVJ2L', output_format = 'pandas', indexing_type = 'date')\n",
    "ti = TechIndicators(key = 'KSTIKHKXANLCVJ2L', output_format = 'pandas', indexing_type = 'date')\n",
    "fd = FundamentalData(key = 'KSTIKHKXANLCVJ2L', output_format = 'pandas', indexing_type = 'date')"
   ]
  },
  {
   "cell_type": "code",
   "execution_count": 2,
   "metadata": {},
   "outputs": [],
   "source": [
    "key = 'KSTIKHKXANLCVJ2L'\n",
    "base_url = \"https://www.alphavantage.co/query/\""
   ]
  },
  {
   "cell_type": "code",
   "execution_count": 3,
   "metadata": {},
   "outputs": [],
   "source": [
    "ticker = 'ZM'"
   ]
  },
  {
   "cell_type": "code",
   "execution_count": 4,
   "metadata": {},
   "outputs": [],
   "source": [
    "#build out a request\n",
    "res = requests.get(url=base_url, params={\n",
    "    \"function\":\"EARNINGS\",\n",
    "    \"symbol\":f'{ticker}',\n",
    "    'apikey':key})"
   ]
  },
  {
   "cell_type": "code",
   "execution_count": 5,
   "metadata": {},
   "outputs": [
    {
     "data": {
      "text/plain": [
       "200"
      ]
     },
     "execution_count": 5,
     "metadata": {},
     "output_type": "execute_result"
    }
   ],
   "source": [
    "res.status_code"
   ]
  },
  {
   "cell_type": "code",
   "execution_count": 6,
   "metadata": {},
   "outputs": [],
   "source": [
    "EPS = res.json()\n",
    "# _, header = EPS.json()\n",
    "#df = pd.DataFrame.from_dict(EPS, orient= 'index')_"
   ]
  },
  {
   "cell_type": "code",
   "execution_count": 7,
   "metadata": {},
   "outputs": [
    {
     "data": {
      "text/plain": [
       "7"
      ]
     },
     "execution_count": 7,
     "metadata": {},
     "output_type": "execute_result"
    }
   ],
   "source": [
    "len(EPS['quarterlyEarnings'])"
   ]
  },
  {
   "cell_type": "code",
   "execution_count": 8,
   "metadata": {},
   "outputs": [],
   "source": [
    "def quarterly_earnings_df(ticker):\n",
    "    key = 'KSTIKHKXANLCVJ2L'\n",
    "    base_url = \"https://www.alphavantage.co/query/\"\n",
    "    stock = ticker\n",
    "    res = requests.get(url=base_url, params={\n",
    "    \"function\":\"EARNINGS\",\n",
    "    \"symbol\":f'{stock}',\n",
    "    'apikey':key})\n",
    "    EPS = res.json()\n",
    "    #Quarterly\n",
    "    for i in range(0,len(EPS['quarterlyEarnings'])-1):\n",
    "        if i==0:\n",
    "            df = pd.DataFrame.from_dict(EPS['quarterlyEarnings'][i], orient = 'index')\n",
    "        else:\n",
    "            df_1 = pd.DataFrame.from_dict(EPS['quarterlyEarnings'][i], orient = 'index')\n",
    "            df = pd.merge(df, df_1, left_index = True, right_index = True) \n",
    "    df = df.transpose()\n",
    "    df['fiscalDateEnding'] = pd.to_datetime(df['fiscalDateEnding'])\n",
    "    df['reportedDate'] = pd.to_datetime(df['reportedDate'])\n",
    "    df[['reported_Quarterly_EPS', 'estimated_Quarterly_EPS', 'surprise', 'surprisePercentage']] = df[['reportedEPS', 'estimatedEPS', 'surprise', 'surprisePercentage']].apply(pd.to_numeric)\n",
    "    df = df.drop(columns = ['estimatedEPS', 'reportedEPS'])\n",
    "    df = df.set_index('fiscalDateEnding')\n",
    "    return df"
   ]
  },
  {
   "cell_type": "code",
   "execution_count": 9,
   "metadata": {},
   "outputs": [],
   "source": [
    "df = quarterly_earnings_df(ticker)"
   ]
  },
  {
   "cell_type": "code",
   "execution_count": 10,
   "metadata": {},
   "outputs": [
    {
     "data": {
      "text/html": [
       "<div>\n",
       "<style scoped>\n",
       "    .dataframe tbody tr th:only-of-type {\n",
       "        vertical-align: middle;\n",
       "    }\n",
       "\n",
       "    .dataframe tbody tr th {\n",
       "        vertical-align: top;\n",
       "    }\n",
       "\n",
       "    .dataframe thead th {\n",
       "        text-align: right;\n",
       "    }\n",
       "</style>\n",
       "<table border=\"1\" class=\"dataframe\">\n",
       "  <thead>\n",
       "    <tr style=\"text-align: right;\">\n",
       "      <th></th>\n",
       "      <th>reportedDate</th>\n",
       "      <th>surprise</th>\n",
       "      <th>surprisePercentage</th>\n",
       "      <th>reported_Quarterly_EPS</th>\n",
       "      <th>estimated_Quarterly_EPS</th>\n",
       "    </tr>\n",
       "    <tr>\n",
       "      <th>fiscalDateEnding</th>\n",
       "      <th></th>\n",
       "      <th></th>\n",
       "      <th></th>\n",
       "      <th></th>\n",
       "      <th></th>\n",
       "    </tr>\n",
       "  </thead>\n",
       "  <tbody>\n",
       "    <tr>\n",
       "      <th>2020-10-31</th>\n",
       "      <td>2020-11-30</td>\n",
       "      <td>0.2296</td>\n",
       "      <td>30.1946</td>\n",
       "      <td>0.99</td>\n",
       "      <td>0.7604</td>\n",
       "    </tr>\n",
       "    <tr>\n",
       "      <th>2020-07-31</th>\n",
       "      <td>2020-08-31</td>\n",
       "      <td>0.4662</td>\n",
       "      <td>102.7325</td>\n",
       "      <td>0.92</td>\n",
       "      <td>0.4538</td>\n",
       "    </tr>\n",
       "    <tr>\n",
       "      <th>2020-04-30</th>\n",
       "      <td>2020-06-02</td>\n",
       "      <td>0.1015</td>\n",
       "      <td>103.0457</td>\n",
       "      <td>0.20</td>\n",
       "      <td>0.0985</td>\n",
       "    </tr>\n",
       "    <tr>\n",
       "      <th>2020-01-31</th>\n",
       "      <td>2020-03-04</td>\n",
       "      <td>0.0789</td>\n",
       "      <td>110.9705</td>\n",
       "      <td>0.15</td>\n",
       "      <td>0.0711</td>\n",
       "    </tr>\n",
       "    <tr>\n",
       "      <th>2019-10-31</th>\n",
       "      <td>2019-12-05</td>\n",
       "      <td>0.0589</td>\n",
       "      <td>189.3891</td>\n",
       "      <td>0.09</td>\n",
       "      <td>0.0311</td>\n",
       "    </tr>\n",
       "  </tbody>\n",
       "</table>\n",
       "</div>"
      ],
      "text/plain": [
       "                 reportedDate  surprise  surprisePercentage  \\\n",
       "fiscalDateEnding                                              \n",
       "2020-10-31         2020-11-30    0.2296             30.1946   \n",
       "2020-07-31         2020-08-31    0.4662            102.7325   \n",
       "2020-04-30         2020-06-02    0.1015            103.0457   \n",
       "2020-01-31         2020-03-04    0.0789            110.9705   \n",
       "2019-10-31         2019-12-05    0.0589            189.3891   \n",
       "\n",
       "                  reported_Quarterly_EPS  estimated_Quarterly_EPS  \n",
       "fiscalDateEnding                                                   \n",
       "2020-10-31                          0.99                   0.7604  \n",
       "2020-07-31                          0.92                   0.4538  \n",
       "2020-04-30                          0.20                   0.0985  \n",
       "2020-01-31                          0.15                   0.0711  \n",
       "2019-10-31                          0.09                   0.0311  "
      ]
     },
     "execution_count": 10,
     "metadata": {},
     "output_type": "execute_result"
    }
   ],
   "source": [
    "df.head()"
   ]
  },
  {
   "cell_type": "code",
   "execution_count": 11,
   "metadata": {},
   "outputs": [],
   "source": [
    "def annual_earnings_df(ticker):\n",
    "    key = 'KSTIKHKXANLCVJ2L'\n",
    "    base_url = \"https://www.alphavantage.co/query/\"\n",
    "    stock = ticker\n",
    "    res = requests.get(url=base_url, params={\n",
    "    \"function\":\"EARNINGS\",\n",
    "    \"symbol\":f'{stock}',\n",
    "    'apikey':key})\n",
    "    EPS = res.json()\n",
    "    #Annual\n",
    "    for i in range(0,len(EPS['annualEarnings'])-1):\n",
    "        if i==0:\n",
    "            df = pd.DataFrame.from_dict(EPS['annualEarnings'][i], orient = 'index')\n",
    "        else:\n",
    "            df_1 = pd.DataFrame.from_dict(EPS['annualEarnings'][i], orient = 'index')\n",
    "            df = pd.merge(df, df_1, left_index = True, right_index = True)\n",
    "    df = df.transpose()\n",
    "    df['fiscalDateEnding'] = pd.to_datetime(df['fiscalDateEnding'])\n",
    "    df[['reported_Annual_EPS']] = df[['reportedEPS']].apply(pd.to_numeric)\n",
    "    df = df.drop(columns = 'reportedEPS')\n",
    "    df = df.set_index('fiscalDateEnding')\n",
    "    return df"
   ]
  },
  {
   "cell_type": "code",
   "execution_count": 12,
   "metadata": {},
   "outputs": [
    {
     "data": {
      "text/html": [
       "<div>\n",
       "<style scoped>\n",
       "    .dataframe tbody tr th:only-of-type {\n",
       "        vertical-align: middle;\n",
       "    }\n",
       "\n",
       "    .dataframe tbody tr th {\n",
       "        vertical-align: top;\n",
       "    }\n",
       "\n",
       "    .dataframe thead th {\n",
       "        text-align: right;\n",
       "    }\n",
       "</style>\n",
       "<table border=\"1\" class=\"dataframe\">\n",
       "  <thead>\n",
       "    <tr style=\"text-align: right;\">\n",
       "      <th></th>\n",
       "      <th>reported_Annual_EPS</th>\n",
       "    </tr>\n",
       "    <tr>\n",
       "      <th>fiscalDateEnding</th>\n",
       "      <th></th>\n",
       "    </tr>\n",
       "  </thead>\n",
       "  <tbody>\n",
       "    <tr>\n",
       "      <th>2020-10-31</th>\n",
       "      <td>2.11</td>\n",
       "    </tr>\n",
       "  </tbody>\n",
       "</table>\n",
       "</div>"
      ],
      "text/plain": [
       "                  reported_Annual_EPS\n",
       "fiscalDateEnding                     \n",
       "2020-10-31                       2.11"
      ]
     },
     "execution_count": 12,
     "metadata": {},
     "output_type": "execute_result"
    }
   ],
   "source": [
    "df = annual_earnings_df(ticker)\n",
    "df.head()"
   ]
  },
  {
   "cell_type": "code",
   "execution_count": 13,
   "metadata": {},
   "outputs": [],
   "source": [
    "def all_earnings_df(ticker):\n",
    "    key = 'KSTIKHKXANLCVJ2L'\n",
    "    base_url = \"https://www.alphavantage.co/query/\"\n",
    "    stock = ticker\n",
    "    res = requests.get(url=base_url, params={\n",
    "    \"function\":\"EARNINGS\",\n",
    "    \"symbol\":f'{stock}',\n",
    "    'apikey':key})\n",
    "    EPS = res.json()\n",
    "    #Quarterly\n",
    "    for i in range(0,len(EPS['quarterlyEarnings'])-1):\n",
    "        if i==0:\n",
    "            df = pd.DataFrame.from_dict(EPS['quarterlyEarnings'][i], orient = 'index')\n",
    "        else:\n",
    "            df_1 = pd.DataFrame.from_dict(EPS['quarterlyEarnings'][i], orient = 'index')\n",
    "            df = pd.merge(df, df_1, left_index = True, right_index = True) \n",
    "    df = df.transpose()\n",
    "    df['fiscalDateEnding'] = pd.to_datetime(df['fiscalDateEnding'])\n",
    "    df['reportedDate'] = pd.to_datetime(df['reportedDate'])\n",
    "    df[['reported_Quarterly_EPS', 'estimated_Quarterly_EPS', 'surprise', 'surprisePercentage']] = df[['reportedEPS', 'estimatedEPS', 'surprise', 'surprisePercentage']].apply(pd.to_numeric)\n",
    "    df = df.drop(columns = ['estimatedEPS', 'reportedEPS'])\n",
    "    df = df.set_index('fiscalDateEnding')\n",
    "    \n",
    "    #Annual \n",
    "    res = requests.get(url=base_url, params={\n",
    "    \"function\":\"EARNINGS\",\n",
    "    \"symbol\":f'{stock}',\n",
    "    'apikey':key})\n",
    "    EPS = res.json()\n",
    "    #Annual\n",
    "    for i in range(0,len(EPS['annualEarnings'])-1):\n",
    "        if i==0:\n",
    "            dfa = pd.DataFrame.from_dict(EPS['annualEarnings'][i], orient = 'index')\n",
    "        else:\n",
    "            dfa_1 = pd.DataFrame.from_dict(EPS['annualEarnings'][i], orient = 'index')\n",
    "            dfa = pd.merge(dfa, dfa_1, left_index = True, right_index = True)\n",
    "    dfa = dfa.transpose()\n",
    "    dfa['fiscalDateEnding'] = pd.to_datetime(dfa['fiscalDateEnding'])\n",
    "    dfa[['reported_Annual_EPS']] = dfa[['reportedEPS']].apply(pd.to_numeric)\n",
    "    dfa = dfa.drop(columns = 'reportedEPS')\n",
    "    dfa = dfa.set_index('fiscalDateEnding')\n",
    "    \n",
    "    #merge\n",
    "    merge = pd.merge(df, dfa, how ='outer', left_index = True, right_index = True)\n",
    "    return merge"
   ]
  },
  {
   "cell_type": "code",
   "execution_count": 14,
   "metadata": {},
   "outputs": [],
   "source": [
    "df = all_earnings_df(ticker)"
   ]
  },
  {
   "cell_type": "code",
   "execution_count": 17,
   "metadata": {},
   "outputs": [
    {
     "data": {
      "text/html": [
       "<div>\n",
       "<style scoped>\n",
       "    .dataframe tbody tr th:only-of-type {\n",
       "        vertical-align: middle;\n",
       "    }\n",
       "\n",
       "    .dataframe tbody tr th {\n",
       "        vertical-align: top;\n",
       "    }\n",
       "\n",
       "    .dataframe thead th {\n",
       "        text-align: right;\n",
       "    }\n",
       "</style>\n",
       "<table border=\"1\" class=\"dataframe\">\n",
       "  <thead>\n",
       "    <tr style=\"text-align: right;\">\n",
       "      <th></th>\n",
       "      <th>1. open</th>\n",
       "      <th>2. high</th>\n",
       "      <th>3. low</th>\n",
       "      <th>4. close</th>\n",
       "      <th>5. volume</th>\n",
       "      <th>reportedDate</th>\n",
       "      <th>surprise</th>\n",
       "      <th>surprisePercentage</th>\n",
       "      <th>reported_Quarterly_EPS</th>\n",
       "      <th>estimated_Quarterly_EPS</th>\n",
       "      <th>reported_Annual_EPS</th>\n",
       "    </tr>\n",
       "  </thead>\n",
       "  <tbody>\n",
       "    <tr>\n",
       "      <th>2019-04-18</th>\n",
       "      <td>65.00</td>\n",
       "      <td>66.000</td>\n",
       "      <td>60.321</td>\n",
       "      <td>62.0</td>\n",
       "      <td>25764659.0</td>\n",
       "      <td>NaT</td>\n",
       "      <td>NaN</td>\n",
       "      <td>NaN</td>\n",
       "      <td>NaN</td>\n",
       "      <td>NaN</td>\n",
       "      <td>NaN</td>\n",
       "    </tr>\n",
       "    <tr>\n",
       "      <th>2019-04-22</th>\n",
       "      <td>61.00</td>\n",
       "      <td>68.900</td>\n",
       "      <td>59.940</td>\n",
       "      <td>65.7</td>\n",
       "      <td>9949738.0</td>\n",
       "      <td>NaT</td>\n",
       "      <td>NaN</td>\n",
       "      <td>NaN</td>\n",
       "      <td>NaN</td>\n",
       "      <td>NaN</td>\n",
       "      <td>NaN</td>\n",
       "    </tr>\n",
       "    <tr>\n",
       "      <th>2019-04-23</th>\n",
       "      <td>66.87</td>\n",
       "      <td>74.169</td>\n",
       "      <td>65.550</td>\n",
       "      <td>69.0</td>\n",
       "      <td>6786513.0</td>\n",
       "      <td>NaT</td>\n",
       "      <td>NaN</td>\n",
       "      <td>NaN</td>\n",
       "      <td>NaN</td>\n",
       "      <td>NaN</td>\n",
       "      <td>NaN</td>\n",
       "    </tr>\n",
       "    <tr>\n",
       "      <th>2019-04-24</th>\n",
       "      <td>71.40</td>\n",
       "      <td>71.500</td>\n",
       "      <td>63.160</td>\n",
       "      <td>63.2</td>\n",
       "      <td>4973529.0</td>\n",
       "      <td>NaT</td>\n",
       "      <td>NaN</td>\n",
       "      <td>NaN</td>\n",
       "      <td>NaN</td>\n",
       "      <td>NaN</td>\n",
       "      <td>NaN</td>\n",
       "    </tr>\n",
       "    <tr>\n",
       "      <th>2019-04-25</th>\n",
       "      <td>64.74</td>\n",
       "      <td>66.850</td>\n",
       "      <td>62.600</td>\n",
       "      <td>65.0</td>\n",
       "      <td>3863275.0</td>\n",
       "      <td>NaT</td>\n",
       "      <td>NaN</td>\n",
       "      <td>NaN</td>\n",
       "      <td>NaN</td>\n",
       "      <td>NaN</td>\n",
       "      <td>NaN</td>\n",
       "    </tr>\n",
       "  </tbody>\n",
       "</table>\n",
       "</div>"
      ],
      "text/plain": [
       "            1. open  2. high  3. low  4. close   5. volume reportedDate  \\\n",
       "2019-04-18    65.00   66.000  60.321      62.0  25764659.0          NaT   \n",
       "2019-04-22    61.00   68.900  59.940      65.7   9949738.0          NaT   \n",
       "2019-04-23    66.87   74.169  65.550      69.0   6786513.0          NaT   \n",
       "2019-04-24    71.40   71.500  63.160      63.2   4973529.0          NaT   \n",
       "2019-04-25    64.74   66.850  62.600      65.0   3863275.0          NaT   \n",
       "\n",
       "            surprise  surprisePercentage  reported_Quarterly_EPS  \\\n",
       "2019-04-18       NaN                 NaN                     NaN   \n",
       "2019-04-22       NaN                 NaN                     NaN   \n",
       "2019-04-23       NaN                 NaN                     NaN   \n",
       "2019-04-24       NaN                 NaN                     NaN   \n",
       "2019-04-25       NaN                 NaN                     NaN   \n",
       "\n",
       "            estimated_Quarterly_EPS  reported_Annual_EPS  \n",
       "2019-04-18                      NaN                  NaN  \n",
       "2019-04-22                      NaN                  NaN  \n",
       "2019-04-23                      NaN                  NaN  \n",
       "2019-04-24                      NaN                  NaN  \n",
       "2019-04-25                      NaN                  NaN  "
      ]
     },
     "execution_count": 17,
     "metadata": {},
     "output_type": "execute_result"
    }
   ],
   "source": [
    "# Get daily stock data\n",
    "daily, meta_data = ts.get_daily(symbol = ticker, outputsize = 'full')\n",
    "merge = pd.merge(daily, df, how ='outer', left_index = True, right_index = True)\n",
    "merge.head()"
   ]
  },
  {
   "cell_type": "code",
   "execution_count": 18,
   "metadata": {},
   "outputs": [],
   "source": [
    "#merge.to_csv('data/zm_test.csv')"
   ]
  },
  {
   "cell_type": "code",
   "execution_count": null,
   "metadata": {},
   "outputs": [],
   "source": []
  }
 ],
 "metadata": {
  "kernelspec": {
   "display_name": "Python 3",
   "language": "python",
   "name": "python3"
  },
  "language_info": {
   "codemirror_mode": {
    "name": "ipython",
    "version": 3
   },
   "file_extension": ".py",
   "mimetype": "text/x-python",
   "name": "python",
   "nbconvert_exporter": "python",
   "pygments_lexer": "ipython3",
   "version": "3.8.3"
  }
 },
 "nbformat": 4,
 "nbformat_minor": 4
}
