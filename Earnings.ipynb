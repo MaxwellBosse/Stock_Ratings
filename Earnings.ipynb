{
 "cells": [
  {
   "cell_type": "code",
   "execution_count": 10,
   "metadata": {},
   "outputs": [],
   "source": [
    "import requests\n",
    "import pandas as pd\n",
    "import matplotlib.pyplot as plt\n"
   ]
  },
  {
   "cell_type": "code",
   "execution_count": 11,
   "metadata": {},
   "outputs": [],
   "source": [
    "key = 'KSTIKHKXANLCVJ2L'\n",
    "base_url = \"https://www.alphavantage.co/query/\""
   ]
  },
  {
   "cell_type": "code",
   "execution_count": 12,
   "metadata": {},
   "outputs": [],
   "source": [
    "ticker = 'ZM'"
   ]
  },
  {
   "cell_type": "code",
   "execution_count": 13,
   "metadata": {},
   "outputs": [],
   "source": [
    "#build out a request\n",
    "res = requests.get(url=base_url, params={\n",
    "    \"function\":\"EARNINGS\",\n",
    "    \"symbol\":f'{ticker}',\n",
    "    'apikey':key})"
   ]
  },
  {
   "cell_type": "code",
   "execution_count": 14,
   "metadata": {},
   "outputs": [
    {
     "data": {
      "text/plain": [
       "200"
      ]
     },
     "execution_count": 14,
     "metadata": {},
     "output_type": "execute_result"
    }
   ],
   "source": [
    "res.status_code"
   ]
  },
  {
   "cell_type": "code",
   "execution_count": 21,
   "metadata": {},
   "outputs": [],
   "source": [
    "EPS = res.json()\n",
    "# _, header = EPS.json()\n",
    "#df = pd.DataFrame.from_dict(EPS, orient= 'index')_"
   ]
  },
  {
   "cell_type": "code",
   "execution_count": 42,
   "metadata": {},
   "outputs": [
    {
     "data": {
      "text/plain": [
       "7"
      ]
     },
     "execution_count": 42,
     "metadata": {},
     "output_type": "execute_result"
    }
   ],
   "source": [
    "len(EPS['quarterlyEarnings'])"
   ]
  },
  {
   "cell_type": "code",
   "execution_count": 39,
   "metadata": {},
   "outputs": [
    {
     "data": {
      "text/html": [
       "<div>\n",
       "<style scoped>\n",
       "    .dataframe tbody tr th:only-of-type {\n",
       "        vertical-align: middle;\n",
       "    }\n",
       "\n",
       "    .dataframe tbody tr th {\n",
       "        vertical-align: top;\n",
       "    }\n",
       "\n",
       "    .dataframe thead th {\n",
       "        text-align: right;\n",
       "    }\n",
       "</style>\n",
       "<table border=\"1\" class=\"dataframe\">\n",
       "  <thead>\n",
       "    <tr style=\"text-align: right;\">\n",
       "      <th></th>\n",
       "      <th>0</th>\n",
       "    </tr>\n",
       "  </thead>\n",
       "  <tbody>\n",
       "    <tr>\n",
       "      <th>fiscalDateEnding</th>\n",
       "      <td>2020-10-31</td>\n",
       "    </tr>\n",
       "    <tr>\n",
       "      <th>reportedDate</th>\n",
       "      <td>2020-11-30</td>\n",
       "    </tr>\n",
       "    <tr>\n",
       "      <th>reportedEPS</th>\n",
       "      <td>0.99</td>\n",
       "    </tr>\n",
       "    <tr>\n",
       "      <th>estimatedEPS</th>\n",
       "      <td>0.7604</td>\n",
       "    </tr>\n",
       "    <tr>\n",
       "      <th>surprise</th>\n",
       "      <td>0.2296</td>\n",
       "    </tr>\n",
       "  </tbody>\n",
       "</table>\n",
       "</div>"
      ],
      "text/plain": [
       "                           0\n",
       "fiscalDateEnding  2020-10-31\n",
       "reportedDate      2020-11-30\n",
       "reportedEPS             0.99\n",
       "estimatedEPS          0.7604\n",
       "surprise              0.2296"
      ]
     },
     "execution_count": 39,
     "metadata": {},
     "output_type": "execute_result"
    }
   ],
   "source": [
    "list = pd.DataFrame.from_dict(EPS['quarterlyEarnings'][0], orient = 'index')\n",
    "df.head()"
   ]
  },
  {
   "cell_type": "code",
   "execution_count": 53,
   "metadata": {},
   "outputs": [],
   "source": [
    "def quarterly_earnings_df(ticker):\n",
    "    key = 'KSTIKHKXANLCVJ2L'\n",
    "    base_url = \"https://www.alphavantage.co/query/\"\n",
    "    stock = ticker\n",
    "    res = requests.get(url=base_url, params={\n",
    "    \"function\":\"EARNINGS\",\n",
    "    \"symbol\":f'{stock}',\n",
    "    'apikey':key})\n",
    "    EPS = res.json()\n",
    "    #Quarterly\n",
    "    for i in range(0,len(EPS['quarterlyEarnings'])-1):\n",
    "        if i==0:\n",
    "            df = pd.DataFrame.from_dict(EPS['quarterlyEarnings'][i], orient = 'index')\n",
    "        else:\n",
    "            df_1 = pd.DataFrame.from_dict(EPS['quarterlyEarnings'][i], orient = 'index')\n",
    "            df = pd.merge(df, df_1, left_index = True, right_index = True)\n",
    "    return df"
   ]
  },
  {
   "cell_type": "code",
   "execution_count": 64,
   "metadata": {},
   "outputs": [
    {
     "data": {
      "text/html": [
       "<div>\n",
       "<style scoped>\n",
       "    .dataframe tbody tr th:only-of-type {\n",
       "        vertical-align: middle;\n",
       "    }\n",
       "\n",
       "    .dataframe tbody tr th {\n",
       "        vertical-align: top;\n",
       "    }\n",
       "\n",
       "    .dataframe thead th {\n",
       "        text-align: right;\n",
       "    }\n",
       "</style>\n",
       "<table border=\"1\" class=\"dataframe\">\n",
       "  <thead>\n",
       "    <tr style=\"text-align: right;\">\n",
       "      <th></th>\n",
       "      <th>0_x</th>\n",
       "      <th>0_y</th>\n",
       "      <th>0_x</th>\n",
       "      <th>0_y</th>\n",
       "      <th>0_x</th>\n",
       "      <th>0_y</th>\n",
       "      <th>0_x</th>\n",
       "      <th>0_y</th>\n",
       "      <th>0_x</th>\n",
       "      <th>0_y</th>\n",
       "      <th>0_x</th>\n",
       "      <th>0_y</th>\n",
       "      <th>0_x</th>\n",
       "      <th>0_y</th>\n",
       "    </tr>\n",
       "  </thead>\n",
       "  <tbody>\n",
       "    <tr>\n",
       "      <th>fiscalDateEnding</th>\n",
       "      <td>2020-09-30</td>\n",
       "      <td>2020-06-30</td>\n",
       "      <td>2020-03-31</td>\n",
       "      <td>2019-12-31</td>\n",
       "      <td>2019-09-30</td>\n",
       "      <td>2019-06-30</td>\n",
       "      <td>2019-03-31</td>\n",
       "      <td>2018-12-31</td>\n",
       "      <td>2018-09-30</td>\n",
       "      <td>2018-06-30</td>\n",
       "      <td>2018-03-31</td>\n",
       "      <td>2017-12-31</td>\n",
       "      <td>2017-09-30</td>\n",
       "      <td>2017-06-30</td>\n",
       "    </tr>\n",
       "    <tr>\n",
       "      <th>reportedDate</th>\n",
       "      <td>2020-10-29</td>\n",
       "      <td>2020-08-05</td>\n",
       "      <td>2020-05-06</td>\n",
       "      <td>2020-02-26</td>\n",
       "      <td>2019-11-06</td>\n",
       "      <td>2019-08-07</td>\n",
       "      <td>2019-05-08</td>\n",
       "      <td>2019-02-27</td>\n",
       "      <td>2018-11-07</td>\n",
       "      <td>2018-08-08</td>\n",
       "      <td>2018-05-09</td>\n",
       "      <td>2018-03-06</td>\n",
       "      <td>2017-11-07</td>\n",
       "      <td>2017-08-08</td>\n",
       "    </tr>\n",
       "    <tr>\n",
       "      <th>reportedEPS</th>\n",
       "      <td>-0.1</td>\n",
       "      <td>-0.62</td>\n",
       "      <td>-1.18</td>\n",
       "      <td>-0.82</td>\n",
       "      <td>-0.78</td>\n",
       "      <td>-0.58</td>\n",
       "      <td>-0.69</td>\n",
       "      <td>-0.74</td>\n",
       "      <td>-0.5</td>\n",
       "      <td>-0.41</td>\n",
       "      <td>-0.07</td>\n",
       "      <td>-0.45</td>\n",
       "      <td>-0.29</td>\n",
       "      <td>-0.28</td>\n",
       "    </tr>\n",
       "    <tr>\n",
       "      <th>estimatedEPS</th>\n",
       "      <td>-0.2596</td>\n",
       "      <td>-0.7758</td>\n",
       "      <td>-0.6717</td>\n",
       "      <td>-0.6589</td>\n",
       "      <td>-0.44</td>\n",
       "      <td>-0.4643</td>\n",
       "      <td>-0.4817</td>\n",
       "      <td>-0.484</td>\n",
       "      <td>-0.36</td>\n",
       "      <td>-0.3467</td>\n",
       "      <td>-0.4172</td>\n",
       "      <td>-0.3703</td>\n",
       "      <td>-0.2985</td>\n",
       "      <td>-0.3259</td>\n",
       "    </tr>\n",
       "    <tr>\n",
       "      <th>surprise</th>\n",
       "      <td>0.1596</td>\n",
       "      <td>0.1558</td>\n",
       "      <td>-0.5083</td>\n",
       "      <td>-0.1611</td>\n",
       "      <td>-0.34</td>\n",
       "      <td>-0.1157</td>\n",
       "      <td>-0.2083</td>\n",
       "      <td>-0.256</td>\n",
       "      <td>-0.14</td>\n",
       "      <td>-0.0633</td>\n",
       "      <td>0.3472</td>\n",
       "      <td>-0.0797</td>\n",
       "      <td>0.0085</td>\n",
       "      <td>0.0459</td>\n",
       "    </tr>\n",
       "    <tr>\n",
       "      <th>surprisePercentage</th>\n",
       "      <td>61.4792</td>\n",
       "      <td>20.0825</td>\n",
       "      <td>-75.6737</td>\n",
       "      <td>-24.4498</td>\n",
       "      <td>-77.2727</td>\n",
       "      <td>-24.9192</td>\n",
       "      <td>-43.2427</td>\n",
       "      <td>-52.8926</td>\n",
       "      <td>-38.8889</td>\n",
       "      <td>-18.2579</td>\n",
       "      <td>83.2215</td>\n",
       "      <td>-21.5231</td>\n",
       "      <td>2.8476</td>\n",
       "      <td>14.0841</td>\n",
       "    </tr>\n",
       "  </tbody>\n",
       "</table>\n",
       "</div>"
      ],
      "text/plain": [
       "                           0_x         0_y         0_x         0_y  \\\n",
       "fiscalDateEnding    2020-09-30  2020-06-30  2020-03-31  2019-12-31   \n",
       "reportedDate        2020-10-29  2020-08-05  2020-05-06  2020-02-26   \n",
       "reportedEPS               -0.1       -0.62       -1.18       -0.82   \n",
       "estimatedEPS           -0.2596     -0.7758     -0.6717     -0.6589   \n",
       "surprise                0.1596      0.1558     -0.5083     -0.1611   \n",
       "surprisePercentage     61.4792     20.0825    -75.6737    -24.4498   \n",
       "\n",
       "                           0_x         0_y         0_x         0_y  \\\n",
       "fiscalDateEnding    2019-09-30  2019-06-30  2019-03-31  2018-12-31   \n",
       "reportedDate        2019-11-06  2019-08-07  2019-05-08  2019-02-27   \n",
       "reportedEPS              -0.78       -0.58       -0.69       -0.74   \n",
       "estimatedEPS             -0.44     -0.4643     -0.4817      -0.484   \n",
       "surprise                 -0.34     -0.1157     -0.2083      -0.256   \n",
       "surprisePercentage    -77.2727    -24.9192    -43.2427    -52.8926   \n",
       "\n",
       "                           0_x         0_y         0_x         0_y  \\\n",
       "fiscalDateEnding    2018-09-30  2018-06-30  2018-03-31  2017-12-31   \n",
       "reportedDate        2018-11-07  2018-08-08  2018-05-09  2018-03-06   \n",
       "reportedEPS               -0.5       -0.41       -0.07       -0.45   \n",
       "estimatedEPS             -0.36     -0.3467     -0.4172     -0.3703   \n",
       "surprise                 -0.14     -0.0633      0.3472     -0.0797   \n",
       "surprisePercentage    -38.8889    -18.2579     83.2215    -21.5231   \n",
       "\n",
       "                           0_x         0_y  \n",
       "fiscalDateEnding    2017-09-30  2017-06-30  \n",
       "reportedDate        2017-11-07  2017-08-08  \n",
       "reportedEPS              -0.29       -0.28  \n",
       "estimatedEPS           -0.2985     -0.3259  \n",
       "surprise                0.0085      0.0459  \n",
       "surprisePercentage      2.8476     14.0841  "
      ]
     },
     "execution_count": 64,
     "metadata": {},
     "output_type": "execute_result"
    }
   ],
   "source": [
    "quarterly_earnings_df('CVNA')"
   ]
  },
  {
   "cell_type": "code",
   "execution_count": 61,
   "metadata": {},
   "outputs": [],
   "source": [
    "def annual_earnings_df(ticker):\n",
    "    key = 'KSTIKHKXANLCVJ2L'\n",
    "    base_url = \"https://www.alphavantage.co/query/\"\n",
    "    stock = ticker\n",
    "    res = requests.get(url=base_url, params={\n",
    "    \"function\":\"EARNINGS\",\n",
    "    \"symbol\":f'{stock}',\n",
    "    'apikey':key})\n",
    "    EPS = res.json()\n",
    "    #Quarterly\n",
    "    for i in range(0,len(EPS['annualEarnings'])-1):\n",
    "        if i==0:\n",
    "            df = pd.DataFrame.from_dict(EPS['annualEarnings'][i], orient = 'index')\n",
    "        else:\n",
    "            df_1 = pd.DataFrame.from_dict(EPS['annualEarnings'][i], orient = 'index')\n",
    "            df = pd.merge(df, df_1, left_index = True, right_index = True)\n",
    "    return df"
   ]
  },
  {
   "cell_type": "code",
   "execution_count": 63,
   "metadata": {},
   "outputs": [
    {
     "data": {
      "text/html": [
       "<div>\n",
       "<style scoped>\n",
       "    .dataframe tbody tr th:only-of-type {\n",
       "        vertical-align: middle;\n",
       "    }\n",
       "\n",
       "    .dataframe tbody tr th {\n",
       "        vertical-align: top;\n",
       "    }\n",
       "\n",
       "    .dataframe thead th {\n",
       "        text-align: right;\n",
       "    }\n",
       "</style>\n",
       "<table border=\"1\" class=\"dataframe\">\n",
       "  <thead>\n",
       "    <tr style=\"text-align: right;\">\n",
       "      <th></th>\n",
       "      <th>0_x</th>\n",
       "      <th>0_y</th>\n",
       "      <th>0</th>\n",
       "    </tr>\n",
       "  </thead>\n",
       "  <tbody>\n",
       "    <tr>\n",
       "      <th>fiscalDateEnding</th>\n",
       "      <td>2020-12-31</td>\n",
       "      <td>2019-12-31</td>\n",
       "      <td>2018-12-31</td>\n",
       "    </tr>\n",
       "    <tr>\n",
       "      <th>reportedEPS</th>\n",
       "      <td>-1.9</td>\n",
       "      <td>-2.87</td>\n",
       "      <td>-1.72</td>\n",
       "    </tr>\n",
       "  </tbody>\n",
       "</table>\n",
       "</div>"
      ],
      "text/plain": [
       "                         0_x         0_y           0\n",
       "fiscalDateEnding  2020-12-31  2019-12-31  2018-12-31\n",
       "reportedEPS             -1.9       -2.87       -1.72"
      ]
     },
     "execution_count": 63,
     "metadata": {},
     "output_type": "execute_result"
    }
   ],
   "source": [
    "annual_earnings_df('CVNA')"
   ]
  },
  {
   "cell_type": "code",
   "execution_count": null,
   "metadata": {},
   "outputs": [],
   "source": []
  }
 ],
 "metadata": {
  "kernelspec": {
   "display_name": "Python 3",
   "language": "python",
   "name": "python3"
  },
  "language_info": {
   "codemirror_mode": {
    "name": "ipython",
    "version": 3
   },
   "file_extension": ".py",
   "mimetype": "text/x-python",
   "name": "python",
   "nbconvert_exporter": "python",
   "pygments_lexer": "ipython3",
   "version": "3.8.3"
  }
 },
 "nbformat": 4,
 "nbformat_minor": 4
}
